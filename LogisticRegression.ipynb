{
  "nbformat": 4,
  "nbformat_minor": 0,
  "metadata": {
    "colab": {
      "name": "LogisticRegression.ipynb",
      "provenance": [],
      "collapsed_sections": [],
      "toc_visible": true,
      "mount_file_id": "1ii0NTjIiXuAMvDRccLARj5ZoEU_RzvIL",
      "authorship_tag": "ABX9TyMY2+6RmnDz7MiwtfoBU20F",
      "include_colab_link": true
    },
    "kernelspec": {
      "name": "python3",
      "display_name": "Python 3"
    },
    "language_info": {
      "name": "python"
    }
  },
  "cells": [
    {
      "cell_type": "markdown",
      "metadata": {
        "id": "view-in-github",
        "colab_type": "text"
      },
      "source": [
        "<a href=\"https://colab.research.google.com/github/IkeLyons/HW1_LogisticRegression/blob/main/LogisticRegression.ipynb\" target=\"_parent\"><img src=\"https://colab.research.google.com/assets/colab-badge.svg\" alt=\"Open In Colab\"/></a>"
      ]
    },
    {
      "cell_type": "markdown",
      "metadata": {
        "id": "TLDUgbF-zEtT"
      },
      "source": [
        ""
      ]
    },
    {
      "cell_type": "markdown",
      "metadata": {
        "id": "ByxD47DXywom"
      },
      "source": [
        "# Task 1\n",
        "\n"
      ]
    },
    {
      "cell_type": "markdown",
      "metadata": {
        "id": "UhruJ49iQI8I"
      },
      "source": [
        "The problem that I am going to try to solve using logistic regression is the problem of trying to predict whether or not a student will be accepted to a graduate engineering program. There are a number of different factors that can contribute to a student being accepted and I am planning on looking at factors like gender, GPA, number of internships, and others. Logistic regression is the best choice for solving this problem because a student will either be accepted to the program or not, and the output of logistic regression is binary. Thus, becuase our problem calls for a binary answer and logistic regression provides a binary answer we use it."
      ]
    },
    {
      "cell_type": "markdown",
      "metadata": {
        "id": "eAz2Ty7zzHv8"
      },
      "source": [
        "# Task 2"
      ]
    },
    {
      "cell_type": "markdown",
      "metadata": {
        "id": "Y_8sQ9WQogS_"
      },
      "source": [
        "Start by importing the data:"
      ]
    },
    {
      "cell_type": "code",
      "metadata": {
        "colab": {
          "base_uri": "https://localhost:8080/"
        },
        "id": "BY8Y0PLGwMqk",
        "outputId": "bbae6708-f0ab-40bd-a717-c40ec389c85e"
      },
      "source": [
        "! pip install kaggle"
      ],
      "execution_count": 144,
      "outputs": [
        {
          "output_type": "stream",
          "name": "stdout",
          "text": [
            "Requirement already satisfied: kaggle in /usr/local/lib/python3.7/dist-packages (1.5.12)\n",
            "Requirement already satisfied: requests in /usr/local/lib/python3.7/dist-packages (from kaggle) (2.23.0)\n",
            "Requirement already satisfied: python-dateutil in /usr/local/lib/python3.7/dist-packages (from kaggle) (2.8.2)\n",
            "Requirement already satisfied: urllib3 in /usr/local/lib/python3.7/dist-packages (from kaggle) (1.24.3)\n",
            "Requirement already satisfied: tqdm in /usr/local/lib/python3.7/dist-packages (from kaggle) (4.62.0)\n",
            "Requirement already satisfied: six>=1.10 in /usr/local/lib/python3.7/dist-packages (from kaggle) (1.15.0)\n",
            "Requirement already satisfied: certifi in /usr/local/lib/python3.7/dist-packages (from kaggle) (2021.5.30)\n",
            "Requirement already satisfied: python-slugify in /usr/local/lib/python3.7/dist-packages (from kaggle) (5.0.2)\n",
            "Requirement already satisfied: text-unidecode>=1.3 in /usr/local/lib/python3.7/dist-packages (from python-slugify->kaggle) (1.3)\n",
            "Requirement already satisfied: chardet<4,>=3.0.2 in /usr/local/lib/python3.7/dist-packages (from requests->kaggle) (3.0.4)\n",
            "Requirement already satisfied: idna<3,>=2.5 in /usr/local/lib/python3.7/dist-packages (from requests->kaggle) (2.10)\n"
          ]
        }
      ]
    },
    {
      "cell_type": "code",
      "metadata": {
        "colab": {
          "base_uri": "https://localhost:8080/"
        },
        "id": "PPDBUQe8wg5E",
        "outputId": "3c02145a-2a19-4dcd-ab77-8ab2f5d9c761"
      },
      "source": [
        "! mkdir ~/.kaggle"
      ],
      "execution_count": 145,
      "outputs": [
        {
          "output_type": "stream",
          "name": "stdout",
          "text": [
            "mkdir: cannot create directory ‘/root/.kaggle’: File exists\n"
          ]
        }
      ]
    },
    {
      "cell_type": "code",
      "metadata": {
        "id": "qHDBaTS-wkpn"
      },
      "source": [
        "!cp /content/drive/MyDrive/kaggle.json ~/.kaggle/kaggle.json"
      ],
      "execution_count": 146,
      "outputs": []
    },
    {
      "cell_type": "code",
      "metadata": {
        "colab": {
          "base_uri": "https://localhost:8080/"
        },
        "id": "nHCdBYHCwrgu",
        "outputId": "085bc9ea-7ea6-4e09-911f-f314a7e9928b"
      },
      "source": [
        "! kaggle datasets download tejashvi14/engineering-placements-prediction"
      ],
      "execution_count": 147,
      "outputs": [
        {
          "output_type": "stream",
          "name": "stdout",
          "text": [
            "engineering-placements-prediction.zip: Skipping, found more recently modified local copy (use --force to force download)\n"
          ]
        }
      ]
    },
    {
      "cell_type": "code",
      "metadata": {
        "id": "6-R5IhvOxJPi"
      },
      "source": [
        "! #unzip engineering-placements-prediction.zip"
      ],
      "execution_count": 148,
      "outputs": []
    },
    {
      "cell_type": "markdown",
      "metadata": {
        "id": "X3AwGrxton2z"
      },
      "source": [
        "**Begin Exploratory Data Analysis:**"
      ]
    },
    {
      "cell_type": "code",
      "metadata": {
        "colab": {
          "base_uri": "https://localhost:8080/",
          "height": 206
        },
        "id": "HX2-zPbgmWVz",
        "outputId": "5e8d1ecd-8bb7-4b33-ae72-417d4d8389c8"
      },
      "source": [
        "import pandas as pd\n",
        "import seaborn as sb\n",
        "dataset = pd.read_csv('collegePlace.csv', encoding='utf-8')\n",
        "dataset.head()"
      ],
      "execution_count": 149,
      "outputs": [
        {
          "output_type": "execute_result",
          "data": {
            "text/html": [
              "<div>\n",
              "<style scoped>\n",
              "    .dataframe tbody tr th:only-of-type {\n",
              "        vertical-align: middle;\n",
              "    }\n",
              "\n",
              "    .dataframe tbody tr th {\n",
              "        vertical-align: top;\n",
              "    }\n",
              "\n",
              "    .dataframe thead th {\n",
              "        text-align: right;\n",
              "    }\n",
              "</style>\n",
              "<table border=\"1\" class=\"dataframe\">\n",
              "  <thead>\n",
              "    <tr style=\"text-align: right;\">\n",
              "      <th></th>\n",
              "      <th>Age</th>\n",
              "      <th>Gender</th>\n",
              "      <th>Stream</th>\n",
              "      <th>Internships</th>\n",
              "      <th>CGPA</th>\n",
              "      <th>Hostel</th>\n",
              "      <th>HistoryOfBacklogs</th>\n",
              "      <th>PlacedOrNot</th>\n",
              "    </tr>\n",
              "  </thead>\n",
              "  <tbody>\n",
              "    <tr>\n",
              "      <th>0</th>\n",
              "      <td>22</td>\n",
              "      <td>Male</td>\n",
              "      <td>Electronics And Communication</td>\n",
              "      <td>1</td>\n",
              "      <td>8</td>\n",
              "      <td>1</td>\n",
              "      <td>1</td>\n",
              "      <td>1</td>\n",
              "    </tr>\n",
              "    <tr>\n",
              "      <th>1</th>\n",
              "      <td>21</td>\n",
              "      <td>Female</td>\n",
              "      <td>Computer Science</td>\n",
              "      <td>0</td>\n",
              "      <td>7</td>\n",
              "      <td>1</td>\n",
              "      <td>1</td>\n",
              "      <td>1</td>\n",
              "    </tr>\n",
              "    <tr>\n",
              "      <th>2</th>\n",
              "      <td>22</td>\n",
              "      <td>Female</td>\n",
              "      <td>Information Technology</td>\n",
              "      <td>1</td>\n",
              "      <td>6</td>\n",
              "      <td>0</td>\n",
              "      <td>0</td>\n",
              "      <td>1</td>\n",
              "    </tr>\n",
              "    <tr>\n",
              "      <th>3</th>\n",
              "      <td>21</td>\n",
              "      <td>Male</td>\n",
              "      <td>Information Technology</td>\n",
              "      <td>0</td>\n",
              "      <td>8</td>\n",
              "      <td>0</td>\n",
              "      <td>1</td>\n",
              "      <td>1</td>\n",
              "    </tr>\n",
              "    <tr>\n",
              "      <th>4</th>\n",
              "      <td>22</td>\n",
              "      <td>Male</td>\n",
              "      <td>Mechanical</td>\n",
              "      <td>0</td>\n",
              "      <td>8</td>\n",
              "      <td>1</td>\n",
              "      <td>0</td>\n",
              "      <td>1</td>\n",
              "    </tr>\n",
              "  </tbody>\n",
              "</table>\n",
              "</div>"
            ],
            "text/plain": [
              "   Age  Gender  ... HistoryOfBacklogs  PlacedOrNot\n",
              "0   22    Male  ...                 1            1\n",
              "1   21  Female  ...                 1            1\n",
              "2   22  Female  ...                 0            1\n",
              "3   21    Male  ...                 1            1\n",
              "4   22    Male  ...                 0            1\n",
              "\n",
              "[5 rows x 8 columns]"
            ]
          },
          "metadata": {},
          "execution_count": 149
        }
      ]
    },
    {
      "cell_type": "code",
      "metadata": {
        "colab": {
          "base_uri": "https://localhost:8080/"
        },
        "id": "jqk0so-EpF7T",
        "outputId": "470d0814-6cbe-4b23-8707-7a417f56c14c"
      },
      "source": [
        "dataset.shape"
      ],
      "execution_count": 150,
      "outputs": [
        {
          "output_type": "execute_result",
          "data": {
            "text/plain": [
              "(2966, 8)"
            ]
          },
          "metadata": {},
          "execution_count": 150
        }
      ]
    },
    {
      "cell_type": "code",
      "metadata": {
        "colab": {
          "base_uri": "https://localhost:8080/"
        },
        "id": "FclzoG0Wo5hd",
        "outputId": "bcccd233-1d48-4392-9e8d-faabe4cfa9d9"
      },
      "source": [
        "dataset.isnull().sum()"
      ],
      "execution_count": 151,
      "outputs": [
        {
          "output_type": "execute_result",
          "data": {
            "text/plain": [
              "Age                  0\n",
              "Gender               0\n",
              "Stream               0\n",
              "Internships          0\n",
              "CGPA                 0\n",
              "Hostel               0\n",
              "HistoryOfBacklogs    0\n",
              "PlacedOrNot          0\n",
              "dtype: int64"
            ]
          },
          "metadata": {},
          "execution_count": 151
        }
      ]
    },
    {
      "cell_type": "markdown",
      "metadata": {
        "id": "8aoQJ4kI8bkC"
      },
      "source": [
        "There are no missing values, and thus there wont be any need to remove or change columns/entries in the dataset. Instead lets look at some stats and visualaizations of the data. "
      ]
    },
    {
      "cell_type": "code",
      "metadata": {
        "colab": {
          "base_uri": "https://localhost:8080/",
          "height": 300
        },
        "id": "wf9dzKSdDTHr",
        "outputId": "91879f58-747a-463d-8501-c8a1b42a6ba1"
      },
      "source": [
        "dataset.describe()"
      ],
      "execution_count": 152,
      "outputs": [
        {
          "output_type": "execute_result",
          "data": {
            "text/html": [
              "<div>\n",
              "<style scoped>\n",
              "    .dataframe tbody tr th:only-of-type {\n",
              "        vertical-align: middle;\n",
              "    }\n",
              "\n",
              "    .dataframe tbody tr th {\n",
              "        vertical-align: top;\n",
              "    }\n",
              "\n",
              "    .dataframe thead th {\n",
              "        text-align: right;\n",
              "    }\n",
              "</style>\n",
              "<table border=\"1\" class=\"dataframe\">\n",
              "  <thead>\n",
              "    <tr style=\"text-align: right;\">\n",
              "      <th></th>\n",
              "      <th>Age</th>\n",
              "      <th>Internships</th>\n",
              "      <th>CGPA</th>\n",
              "      <th>Hostel</th>\n",
              "      <th>HistoryOfBacklogs</th>\n",
              "      <th>PlacedOrNot</th>\n",
              "    </tr>\n",
              "  </thead>\n",
              "  <tbody>\n",
              "    <tr>\n",
              "      <th>count</th>\n",
              "      <td>2966.000000</td>\n",
              "      <td>2966.000000</td>\n",
              "      <td>2966.000000</td>\n",
              "      <td>2966.000000</td>\n",
              "      <td>2966.000000</td>\n",
              "      <td>2966.000000</td>\n",
              "    </tr>\n",
              "    <tr>\n",
              "      <th>mean</th>\n",
              "      <td>21.485840</td>\n",
              "      <td>0.703641</td>\n",
              "      <td>7.073837</td>\n",
              "      <td>0.269049</td>\n",
              "      <td>0.192178</td>\n",
              "      <td>0.552596</td>\n",
              "    </tr>\n",
              "    <tr>\n",
              "      <th>std</th>\n",
              "      <td>1.324933</td>\n",
              "      <td>0.740197</td>\n",
              "      <td>0.967748</td>\n",
              "      <td>0.443540</td>\n",
              "      <td>0.394079</td>\n",
              "      <td>0.497310</td>\n",
              "    </tr>\n",
              "    <tr>\n",
              "      <th>min</th>\n",
              "      <td>19.000000</td>\n",
              "      <td>0.000000</td>\n",
              "      <td>5.000000</td>\n",
              "      <td>0.000000</td>\n",
              "      <td>0.000000</td>\n",
              "      <td>0.000000</td>\n",
              "    </tr>\n",
              "    <tr>\n",
              "      <th>25%</th>\n",
              "      <td>21.000000</td>\n",
              "      <td>0.000000</td>\n",
              "      <td>6.000000</td>\n",
              "      <td>0.000000</td>\n",
              "      <td>0.000000</td>\n",
              "      <td>0.000000</td>\n",
              "    </tr>\n",
              "    <tr>\n",
              "      <th>50%</th>\n",
              "      <td>21.000000</td>\n",
              "      <td>1.000000</td>\n",
              "      <td>7.000000</td>\n",
              "      <td>0.000000</td>\n",
              "      <td>0.000000</td>\n",
              "      <td>1.000000</td>\n",
              "    </tr>\n",
              "    <tr>\n",
              "      <th>75%</th>\n",
              "      <td>22.000000</td>\n",
              "      <td>1.000000</td>\n",
              "      <td>8.000000</td>\n",
              "      <td>1.000000</td>\n",
              "      <td>0.000000</td>\n",
              "      <td>1.000000</td>\n",
              "    </tr>\n",
              "    <tr>\n",
              "      <th>max</th>\n",
              "      <td>30.000000</td>\n",
              "      <td>3.000000</td>\n",
              "      <td>9.000000</td>\n",
              "      <td>1.000000</td>\n",
              "      <td>1.000000</td>\n",
              "      <td>1.000000</td>\n",
              "    </tr>\n",
              "  </tbody>\n",
              "</table>\n",
              "</div>"
            ],
            "text/plain": [
              "               Age  Internships  ...  HistoryOfBacklogs  PlacedOrNot\n",
              "count  2966.000000  2966.000000  ...        2966.000000  2966.000000\n",
              "mean     21.485840     0.703641  ...           0.192178     0.552596\n",
              "std       1.324933     0.740197  ...           0.394079     0.497310\n",
              "min      19.000000     0.000000  ...           0.000000     0.000000\n",
              "25%      21.000000     0.000000  ...           0.000000     0.000000\n",
              "50%      21.000000     1.000000  ...           0.000000     1.000000\n",
              "75%      22.000000     1.000000  ...           0.000000     1.000000\n",
              "max      30.000000     3.000000  ...           1.000000     1.000000\n",
              "\n",
              "[8 rows x 6 columns]"
            ]
          },
          "metadata": {},
          "execution_count": 152
        }
      ]
    },
    {
      "cell_type": "code",
      "metadata": {
        "colab": {
          "base_uri": "https://localhost:8080/",
          "height": 238
        },
        "id": "-d-8wJhSKjTm",
        "outputId": "99941509-e726-47eb-fc55-79ea38ac1d20"
      },
      "source": [
        "# taking a look at the correlation of all the values in the dataset\n",
        "dataset.corr()"
      ],
      "execution_count": 153,
      "outputs": [
        {
          "output_type": "execute_result",
          "data": {
            "text/html": [
              "<div>\n",
              "<style scoped>\n",
              "    .dataframe tbody tr th:only-of-type {\n",
              "        vertical-align: middle;\n",
              "    }\n",
              "\n",
              "    .dataframe tbody tr th {\n",
              "        vertical-align: top;\n",
              "    }\n",
              "\n",
              "    .dataframe thead th {\n",
              "        text-align: right;\n",
              "    }\n",
              "</style>\n",
              "<table border=\"1\" class=\"dataframe\">\n",
              "  <thead>\n",
              "    <tr style=\"text-align: right;\">\n",
              "      <th></th>\n",
              "      <th>Age</th>\n",
              "      <th>Internships</th>\n",
              "      <th>CGPA</th>\n",
              "      <th>Hostel</th>\n",
              "      <th>HistoryOfBacklogs</th>\n",
              "      <th>PlacedOrNot</th>\n",
              "    </tr>\n",
              "  </thead>\n",
              "  <tbody>\n",
              "    <tr>\n",
              "      <th>Age</th>\n",
              "      <td>1.000000</td>\n",
              "      <td>0.006552</td>\n",
              "      <td>-0.119787</td>\n",
              "      <td>0.003042</td>\n",
              "      <td>-0.042586</td>\n",
              "      <td>0.046943</td>\n",
              "    </tr>\n",
              "    <tr>\n",
              "      <th>Internships</th>\n",
              "      <td>0.006552</td>\n",
              "      <td>1.000000</td>\n",
              "      <td>0.023496</td>\n",
              "      <td>0.004617</td>\n",
              "      <td>-0.015118</td>\n",
              "      <td>0.179334</td>\n",
              "    </tr>\n",
              "    <tr>\n",
              "      <th>CGPA</th>\n",
              "      <td>-0.119787</td>\n",
              "      <td>0.023496</td>\n",
              "      <td>1.000000</td>\n",
              "      <td>0.014991</td>\n",
              "      <td>0.002576</td>\n",
              "      <td>0.588648</td>\n",
              "    </tr>\n",
              "    <tr>\n",
              "      <th>Hostel</th>\n",
              "      <td>0.003042</td>\n",
              "      <td>0.004617</td>\n",
              "      <td>0.014991</td>\n",
              "      <td>1.000000</td>\n",
              "      <td>0.103506</td>\n",
              "      <td>-0.038182</td>\n",
              "    </tr>\n",
              "    <tr>\n",
              "      <th>HistoryOfBacklogs</th>\n",
              "      <td>-0.042586</td>\n",
              "      <td>-0.015118</td>\n",
              "      <td>0.002576</td>\n",
              "      <td>0.103506</td>\n",
              "      <td>1.000000</td>\n",
              "      <td>-0.022337</td>\n",
              "    </tr>\n",
              "    <tr>\n",
              "      <th>PlacedOrNot</th>\n",
              "      <td>0.046943</td>\n",
              "      <td>0.179334</td>\n",
              "      <td>0.588648</td>\n",
              "      <td>-0.038182</td>\n",
              "      <td>-0.022337</td>\n",
              "      <td>1.000000</td>\n",
              "    </tr>\n",
              "  </tbody>\n",
              "</table>\n",
              "</div>"
            ],
            "text/plain": [
              "                        Age  Internships  ...  HistoryOfBacklogs  PlacedOrNot\n",
              "Age                1.000000     0.006552  ...          -0.042586     0.046943\n",
              "Internships        0.006552     1.000000  ...          -0.015118     0.179334\n",
              "CGPA              -0.119787     0.023496  ...           0.002576     0.588648\n",
              "Hostel             0.003042     0.004617  ...           0.103506    -0.038182\n",
              "HistoryOfBacklogs -0.042586    -0.015118  ...           1.000000    -0.022337\n",
              "PlacedOrNot        0.046943     0.179334  ...          -0.022337     1.000000\n",
              "\n",
              "[6 rows x 6 columns]"
            ]
          },
          "metadata": {},
          "execution_count": 153
        }
      ]
    },
    {
      "cell_type": "code",
      "metadata": {
        "colab": {
          "base_uri": "https://localhost:8080/",
          "height": 283
        },
        "id": "bMX4sdiIEGR4",
        "outputId": "bce7348b-5d46-4df0-b328-b0c67ec95f0e"
      },
      "source": [
        "# Distribution of ages\n",
        "dataset.Age.hist()"
      ],
      "execution_count": 154,
      "outputs": [
        {
          "output_type": "execute_result",
          "data": {
            "text/plain": [
              "<matplotlib.axes._subplots.AxesSubplot at 0x7fb8136bee10>"
            ]
          },
          "metadata": {},
          "execution_count": 154
        },
        {
          "output_type": "display_data",
          "data": {
            "image/png": "[encoded data removed]",
            "text/plain": [
              "<Figure size 432x288 with 1 Axes>"
            ]
          },
          "metadata": {
            "needs_background": "light"
          }
        }
      ]
    },
    {
      "cell_type": "code",
      "metadata": {
        "colab": {
          "base_uri": "https://localhost:8080/",
          "height": 401
        },
        "id": "ODKYD5-UFjH8",
        "outputId": "433d6d0f-9a8d-48fa-bb29-a711a9adbb05"
      },
      "source": [
        "# Seeing if there is any notable correlation betweeen age and placement\n",
        "sb.lmplot(x='Age', y='PlacedOrNot', data=dataset)"
      ],
      "execution_count": 155,
      "outputs": [
        {
          "output_type": "execute_result",
          "data": {
            "text/plain": [
              "<seaborn.axisgrid.FacetGrid at 0x7fb81ae7a710>"
            ]
          },
          "metadata": {},
          "execution_count": 155
        },
        {
          "output_type": "display_data",
          "data": {
            "image/png": "[encoded data removed]",
            "text/plain": [
              "<Figure size 360x360 with 1 Axes>"
            ]
          },
          "metadata": {
            "needs_background": "light"
          }
        }
      ]
    },
    {
      "cell_type": "code",
      "metadata": {
        "colab": {
          "base_uri": "https://localhost:8080/"
        },
        "id": "MjfSsrY7GlGT",
        "outputId": "9a6135a8-f32b-400f-c661-eb9451cbf5a4"
      },
      "source": [
        "# Look at the amount of internships that applicants had\n",
        "dataset.Internships.value_counts()"
      ],
      "execution_count": 156,
      "outputs": [
        {
          "output_type": "execute_result",
          "data": {
            "text/plain": [
              "0    1331\n",
              "1    1234\n",
              "2     350\n",
              "3      51\n",
              "Name: Internships, dtype: int64"
            ]
          },
          "metadata": {},
          "execution_count": 156
        }
      ]
    },
    {
      "cell_type": "code",
      "metadata": {
        "colab": {
          "base_uri": "https://localhost:8080/",
          "height": 401
        },
        "id": "VfNJhq85G-wb",
        "outputId": "999d123e-4748-49c1-f771-a1b6a65c9db6"
      },
      "source": [
        "# Check if there is obvious correlation between number of internships and placement\n",
        "sb.lmplot(x='Internships', y='PlacedOrNot', data=dataset)"
      ],
      "execution_count": 157,
      "outputs": [
        {
          "output_type": "execute_result",
          "data": {
            "text/plain": [
              "<seaborn.axisgrid.FacetGrid at 0x7fb814785950>"
            ]
          },
          "metadata": {},
          "execution_count": 157
        },
        {
          "output_type": "display_data",
          "data": {
            "image/png": "[encoded data removed]",
            "text/plain": [
              "<Figure size 360x360 with 1 Axes>"
            ]
          },
          "metadata": {
            "needs_background": "light"
          }
        }
      ]
    },
    {
      "cell_type": "code",
      "metadata": {
        "colab": {
          "base_uri": "https://localhost:8080/",
          "height": 354
        },
        "id": "eYHwPRcXOMvM",
        "outputId": "c6ffd37c-08a0-4250-c586-eab145fdbce5"
      },
      "source": [
        "# What is the gender of the applicants\n",
        "sb.countplot('Gender', data=dataset)"
      ],
      "execution_count": 158,
      "outputs": [
        {
          "output_type": "stream",
          "name": "stderr",
          "text": [
            "/usr/local/lib/python3.7/dist-packages/seaborn/_decorators.py:43: FutureWarning: Pass the following variable as a keyword arg: x. From version 0.12, the only valid positional argument will be `data`, and passing other arguments without an explicit keyword will result in an error or misinterpretation.\n",
            "  FutureWarning\n"
          ]
        },
        {
          "output_type": "execute_result",
          "data": {
            "text/plain": [
              "<matplotlib.axes._subplots.AxesSubplot at 0x7fb8147f9b50>"
            ]
          },
          "metadata": {},
          "execution_count": 158
        },
        {
          "output_type": "display_data",
          "data": {
            "image/png": "[encoded data removed]",
            "text/plain": [
              "<Figure size 432x288 with 1 Axes>"
            ]
          },
          "metadata": {
            "needs_background": "light"
          }
        }
      ]
    },
    {
      "cell_type": "code",
      "metadata": {
        "colab": {
          "base_uri": "https://localhost:8080/",
          "height": 322
        },
        "id": "jPhJwwEWMJIC",
        "outputId": "fb87fed2-78aa-4c70-e2b4-e18c36c013ce"
      },
      "source": [
        "# what majors are applying to this program\n",
        "dataset.Stream.hist().figure.autofmt_xdate()"
      ],
      "execution_count": 159,
      "outputs": [
        {
          "output_type": "display_data",
          "data": {
            "image/png": "[encoded data removed]",
            "text/plain": [
              "<Figure size 432x288 with 1 Axes>"
            ]
          },
          "metadata": {
            "needs_background": "light"
          }
        }
      ]
    },
    {
      "cell_type": "code",
      "metadata": {
        "colab": {
          "base_uri": "https://localhost:8080/",
          "height": 354
        },
        "id": "kcjSmppTHVj-",
        "outputId": "2ab05b99-69c8-47a3-9487-2585f0485050"
      },
      "source": [
        "# Did students live in a hostel or not\n",
        "dataset.Hostel.value_counts()\n",
        "sb.countplot('Hostel', data=dataset)"
      ],
      "execution_count": 160,
      "outputs": [
        {
          "output_type": "stream",
          "name": "stderr",
          "text": [
            "/usr/local/lib/python3.7/dist-packages/seaborn/_decorators.py:43: FutureWarning: Pass the following variable as a keyword arg: x. From version 0.12, the only valid positional argument will be `data`, and passing other arguments without an explicit keyword will result in an error or misinterpretation.\n",
            "  FutureWarning\n"
          ]
        },
        {
          "output_type": "execute_result",
          "data": {
            "text/plain": [
              "<matplotlib.axes._subplots.AxesSubplot at 0x7fb813393890>"
            ]
          },
          "metadata": {},
          "execution_count": 160
        },
        {
          "output_type": "display_data",
          "data": {
            "image/png": "[encoded data removed]",
            "text/plain": [
              "<Figure size 432x288 with 1 Axes>"
            ]
          },
          "metadata": {
            "needs_background": "light"
          }
        }
      ]
    },
    {
      "cell_type": "code",
      "metadata": {
        "colab": {
          "base_uri": "https://localhost:8080/",
          "height": 357
        },
        "id": "0LJlk_EtJPXS",
        "outputId": "c3479956-b9ef-42fc-da65-a6dbea781f2c"
      },
      "source": [
        "# See how many students have a history of backlog in any subject\n",
        "dataset.HistoryOfBacklogs.value_counts()\n",
        "sb.countplot('HistoryOfBacklogs', data=dataset)"
      ],
      "execution_count": 161,
      "outputs": [
        {
          "output_type": "stream",
          "name": "stderr",
          "text": [
            "/usr/local/lib/python3.7/dist-packages/seaborn/_decorators.py:43: FutureWarning: Pass the following variable as a keyword arg: x. From version 0.12, the only valid positional argument will be `data`, and passing other arguments without an explicit keyword will result in an error or misinterpretation.\n",
            "  FutureWarning\n"
          ]
        },
        {
          "output_type": "execute_result",
          "data": {
            "text/plain": [
              "<matplotlib.axes._subplots.AxesSubplot at 0x7fb8132f6050>"
            ]
          },
          "metadata": {},
          "execution_count": 161
        },
        {
          "output_type": "display_data",
          "data": {
            "image/png": "[encoded data removed]",
            "text/plain": [
              "<Figure size 432x288 with 1 Axes>"
            ]
          },
          "metadata": {
            "needs_background": "light"
          }
        }
      ]
    },
    {
      "cell_type": "markdown",
      "metadata": {
        "id": "viCrfBR_Kwr1"
      },
      "source": [
        "One bit of preprocessing that we have to do before we can actually apply logistic regression is to remove all the strings from the dataset. They have to all be turned to integers so that the regression can understand the input. This needs to be done for both the stream and gender columns. This can easily be done with sklearn's label encoder. "
      ]
    },
    {
      "cell_type": "code",
      "metadata": {
        "colab": {
          "base_uri": "https://localhost:8080/",
          "height": 206
        },
        "id": "aLZxrmNDLv8m",
        "outputId": "8e78a24e-d639-41f0-d663-ac13bf4c5038"
      },
      "source": [
        "from sklearn import preprocessing\n",
        "encoder = preprocessing.LabelEncoder()\n",
        "dataset.Stream = encoder.fit_transform(dataset.Stream)\n",
        "dataset.Gender = encoder.fit_transform(dataset.Gender)\n",
        "# see if the label encoding worked\n",
        "dataset.head()"
      ],
      "execution_count": 162,
      "outputs": [
        {
          "output_type": "execute_result",
          "data": {
            "text/html": [
              "<div>\n",
              "<style scoped>\n",
              "    .dataframe tbody tr th:only-of-type {\n",
              "        vertical-align: middle;\n",
              "    }\n",
              "\n",
              "    .dataframe tbody tr th {\n",
              "        vertical-align: top;\n",
              "    }\n",
              "\n",
              "    .dataframe thead th {\n",
              "        text-align: right;\n",
              "    }\n",
              "</style>\n",
              "<table border=\"1\" class=\"dataframe\">\n",
              "  <thead>\n",
              "    <tr style=\"text-align: right;\">\n",
              "      <th></th>\n",
              "      <th>Age</th>\n",
              "      <th>Gender</th>\n",
              "      <th>Stream</th>\n",
              "      <th>Internships</th>\n",
              "      <th>CGPA</th>\n",
              "      <th>Hostel</th>\n",
              "      <th>HistoryOfBacklogs</th>\n",
              "      <th>PlacedOrNot</th>\n",
              "    </tr>\n",
              "  </thead>\n",
              "  <tbody>\n",
              "    <tr>\n",
              "      <th>0</th>\n",
              "      <td>22</td>\n",
              "      <td>1</td>\n",
              "      <td>3</td>\n",
              "      <td>1</td>\n",
              "      <td>8</td>\n",
              "      <td>1</td>\n",
              "      <td>1</td>\n",
              "      <td>1</td>\n",
              "    </tr>\n",
              "    <tr>\n",
              "      <th>1</th>\n",
              "      <td>21</td>\n",
              "      <td>0</td>\n",
              "      <td>1</td>\n",
              "      <td>0</td>\n",
              "      <td>7</td>\n",
              "      <td>1</td>\n",
              "      <td>1</td>\n",
              "      <td>1</td>\n",
              "    </tr>\n",
              "    <tr>\n",
              "      <th>2</th>\n",
              "      <td>22</td>\n",
              "      <td>0</td>\n",
              "      <td>4</td>\n",
              "      <td>1</td>\n",
              "      <td>6</td>\n",
              "      <td>0</td>\n",
              "      <td>0</td>\n",
              "      <td>1</td>\n",
              "    </tr>\n",
              "    <tr>\n",
              "      <th>3</th>\n",
              "      <td>21</td>\n",
              "      <td>1</td>\n",
              "      <td>4</td>\n",
              "      <td>0</td>\n",
              "      <td>8</td>\n",
              "      <td>0</td>\n",
              "      <td>1</td>\n",
              "      <td>1</td>\n",
              "    </tr>\n",
              "    <tr>\n",
              "      <th>4</th>\n",
              "      <td>22</td>\n",
              "      <td>1</td>\n",
              "      <td>5</td>\n",
              "      <td>0</td>\n",
              "      <td>8</td>\n",
              "      <td>1</td>\n",
              "      <td>0</td>\n",
              "      <td>1</td>\n",
              "    </tr>\n",
              "  </tbody>\n",
              "</table>\n",
              "</div>"
            ],
            "text/plain": [
              "   Age  Gender  Stream  ...  Hostel  HistoryOfBacklogs  PlacedOrNot\n",
              "0   22       1       3  ...       1                  1            1\n",
              "1   21       0       1  ...       1                  1            1\n",
              "2   22       0       4  ...       0                  0            1\n",
              "3   21       1       4  ...       0                  1            1\n",
              "4   22       1       5  ...       1                  0            1\n",
              "\n",
              "[5 rows x 8 columns]"
            ]
          },
          "metadata": {},
          "execution_count": 162
        }
      ]
    },
    {
      "cell_type": "markdown",
      "metadata": {
        "id": "2-vjKQNzuYO2"
      },
      "source": [
        "The next step to getting our data ready for training is to split off the 'PlacedOrNot' column, as this is the label for our dataset. It needs to be use for validation in the loss function and should not be apart of the entries."
      ]
    },
    {
      "cell_type": "code",
      "metadata": {
        "id": "kVhJ2uG7vAe9"
      },
      "source": [
        "X = dataset.drop('PlacedOrNot', 1)\n",
        "y = dataset['PlacedOrNot']"
      ],
      "execution_count": 163,
      "outputs": []
    },
    {
      "cell_type": "markdown",
      "metadata": {
        "id": "X3fcd72x0wNh"
      },
      "source": [
        "After this we need to add another column to the dataset with all ones that will serve as the bias feature. This can be done by converting the dataframe to a numpy array and adding a ones column. This also has the added benefit of staying with numpy arrays, which is easier to do the math on when compared to a dataframe."
      ]
    },
    {
      "cell_type": "code",
      "metadata": {
        "id": "22WHRlYuw5kx"
      },
      "source": [
        "import numpy as np\n",
        "X = X.to_numpy()\n",
        "X = np.c_[X, np.ones(X.shape[0])]\n"
      ],
      "execution_count": 164,
      "outputs": []
    },
    {
      "cell_type": "markdown",
      "metadata": {
        "id": "Q8iwDn9f0-md"
      },
      "source": [
        "Lastly we are going to split our data into some testing data and some training data, using another built in sklearn function."
      ]
    },
    {
      "cell_type": "code",
      "metadata": {
        "id": "quxlyC5k0gJw"
      },
      "source": [
        "from sklearn.model_selection import train_test_split\n",
        "\n",
        "X_train, X_test, y_train, y_test = train_test_split(X, y)\n",
        "y_train = y_train.to_numpy()\n",
        "y_test = y_test.to_numpy()"
      ],
      "execution_count": 165,
      "outputs": []
    },
    {
      "cell_type": "markdown",
      "metadata": {
        "id": "R8538MSIXliF"
      },
      "source": [
        "# Task 3"
      ]
    },
    {
      "cell_type": "markdown",
      "metadata": {
        "id": "llJAVrFVapq5"
      },
      "source": [
        "The first step in the actual machine learning is to implement all the things that are needed for the different varieties of gradient descent"
      ]
    },
    {
      "cell_type": "code",
      "metadata": {
        "id": "4yR5vgXf7iaI"
      },
      "source": [
        "def sigmoid(z):\n",
        "  return 1/(1+np.exp(-z))\n",
        "\n",
        "def cost(y, A, m):\n",
        "  return -1/m * np.sum(y * np.log(A) + (1-y) * (np.log(1-A)))\n",
        "\n",
        "def logistic_regression(w, X, y, m, n):\n",
        "  A = sigmoid(np.dot(X, w.T))\n",
        "  l = cost(y, A, m)\n",
        "  dw = np.dot((A-y).T, X)/m\n",
        "  return (A, l, dw)\n",
        "\n",
        "def predict(w, X):\n",
        "    probability = sigmoid(np.dot(X, w.T))\n",
        "    values = np.where(probability >= .5, 1, 0)\n",
        "    return np.squeeze(values)"
      ],
      "execution_count": 272,
      "outputs": []
    },
    {
      "cell_type": "markdown",
      "metadata": {
        "id": "mRBpFNoFcGRb"
      },
      "source": [
        "The next step is to implement the two different versions of gradient descent. The first will be batch gradient descent as shown below:"
      ]
    },
    {
      "cell_type": "code",
      "metadata": {
        "colab": {
          "base_uri": "https://localhost:8080/"
        },
        "id": "kXoFbhADHwcj",
        "outputId": "38d6291b-76c5-4b1f-a04e-13842d22f3ac"
      },
      "source": [
        "def bgd(w, X, y):\n",
        "  lr = .01\n",
        "  num_epochs = 1000\n",
        "  for i in range(num_epochs):\n",
        "    _, l, dw = logistic_regression(w, X, y, X.shape[0], X.shape[1])\n",
        "    w = w - lr*dw\n",
        "    loss.append(l)\n",
        "  return w\n",
        "\n",
        "loss = []\n",
        "w = np.zeros((1,8))\n",
        "y_train = np.reshape(y_train, (y_train.shape[0], 1))\n",
        "w = bgd(w, X_train, y_train)\n",
        "print(w.shape)\n",
        "print(loss)\n",
        "print(predict(w, X_test))\n",
        "\n"
      ],
      "execution_count": 273,
      "outputs": [
        {
          "output_type": "stream",
          "name": "stdout",
          "text": [
            "(1, 8)\n",
            "[0.6931471805599454, 0.6852166648447638, 0.6838371055573647, 0.6830630393139959, 0.6823399436985012, 0.6816247058801301, 0.680913695653085, 0.6802065947161551, 0.6795033566640379, 0.6788039576565693, 0.678108375793931, 0.6774165894230311, 0.6767285769961336, 0.6760443170600118, 0.6753637882551452, 0.6746869693159331, 0.6740138390709223, 0.6733443764430371, 0.6726785604497946, 0.6720163702035038, 0.6713577849114546, 0.6707027838760898, 0.6700513464951663, 0.6694034522619011, 0.668759080765106, 0.6681182116893093, 0.6674808248148635, 0.6668469000180429, 0.6662164172711275, 0.6655893566424752, 0.6649656982965826, 0.6643454224941345, 0.6637285095920413, 0.6631149400434654, 0.6625046943978373, 0.6618977533008602, 0.6612940974945045, 0.6606937078169915, 0.660096565202767, 0.6595026506824654, 0.6589119453828628, 0.6583244305268219, 0.6577400874332265, 0.6571588975169064, 0.6565808422885546, 0.6560059033546342, 0.6554340624172764, 0.6548653012741723, 0.6542996018184524, 0.6537369460385616, 0.6531773160181238, 0.6526206939357997, 0.6520670620651362, 0.6515164027744088, 0.6509686985264564, 0.6504239318785086, 0.6498820854820063, 0.6493431420824152, 0.6488070845190326, 0.6482738957247878, 0.6477435587260351, 0.6472160566423422, 0.6466913726862706, 0.6461694901631516, 0.6456503924708552, 0.6451340630995537, 0.6446204856314808, 0.644109643740683, 0.6436015211927679, 0.6430961018446464, 0.6425933696442693, 0.6420933086303608, 0.6415959029321452, 0.6411011367690703, 0.6406089944505258, 0.6401194603755577, 0.6396325190325778, 0.6391481549990705, 0.6386663529412933, 0.6381870976139754, 0.6377103738600125, 0.6372361666101564, 0.6367644608827024, 0.6362952417831733, 0.6358284945039991, 0.635364204324195, 0.6349023566090346, 0.6344429368097215, 0.6339859304630574, 0.6335313231911079, 0.6330791007008645, 0.6326292487839059, 0.6321817533160548, 0.631736600257034, 0.6312937756501192, 0.6308532656217898, 0.6304150563813782, 0.6299791342207164, 0.6295454855137806, 0.629114096716335, 0.6286849543655724, 0.6282580450797546, 0.6278333555578501, 0.6274108725791709, 0.6269905830030077, 0.6265724737682634, 0.6261565318930864, 0.6257427444745017, 0.6253310986880413, 0.6249215817873728, 0.624514181103929, 0.6241088840465342, 0.6237056781010314, 0.6233045508299079, 0.6229054898719202, 0.622508482941719, 0.6221135178294724, 0.62172058240049, 0.6213296645948453, 0.6209407524269988, 0.6205538339854193, 0.620168897432207, 0.6197859310027146, 0.6194049230051684, 0.6190258618202905, 0.6186487359009202, 0.6182735337716343, 0.6179002440283701, 0.6175288553380454, 0.6171593564381808, 0.6167917361365217, 0.6164259833106599, 0.6160620869076562, 0.6157000359436623, 0.6153398195035451, 0.6149814267405088, 0.614624846875719, 0.6142700691979277, 0.6139170830630967, 0.6135658778940246, 0.6132164431799714, 0.6128687684762855, 0.6125228434040312, 0.612178657649616, 0.6118362009644198, 0.611495463164424, 0.6111564341298417, 0.6108191038047486, 0.6104834621967152, 0.6101494993764391, 0.6098172054773787, 0.6094865706953879, 0.6091575852883517, 0.6088302395758227, 0.6085045239386581, 0.6081804288186587, 0.6078579447182088, 0.607537062199916, 0.6072177718862539, 0.6069000644592043, 0.6065839306599021, 0.6062693612882791, 0.6059563472027124, 0.60564487931967, 0.605334948613361, 0.6050265461153851, 0.6047196629143842, 0.6044142901556944, 0.6041104190410006, 0.6038080408279916, 0.6035071468300165, 0.6032077284157419, 0.6029097770088124, 0.6026132840875099, 0.6023182411844163, 0.6020246398860767, 0.6017324718326638, 0.6014417287176441, 0.6011524022874458, 0.6008644843411275, 0.6005779667300484, 0.6002928413575406, 0.600009100178582, 0.5997267351994716, 0.5994457384775048, 0.5991661021206524, 0.5988878182872388, 0.5986108791856231, 0.5983352770738815, 0.5980610042594907, 0.5977880530990133, 0.5975164159977844, 0.5972460854096004, 0.5969770538364082, 0.5967093138279967, 0.5964428579816902, 0.5961776789420421, 0.5959137694005311, 0.5956511220952594, 0.5953897298106506, 0.5951295853771513, 0.5948706816709329, 0.5946130116135953, 0.5943565681718724, 0.5941013443573391, 0.5938473332261187, 0.5935945278785946, 0.5933429214591203, 0.5930925071557335, 0.5928432781998707, 0.5925952278660827, 0.592348349471753, 0.5921026363768175, 0.5918580819834846, 0.5916146797359586, 0.5913724231201631, 0.5911313056634667, 0.5908913209344108, 0.5906524625424372, 0.5904147241376196, 0.5901780994103951, 0.5899425820912968, 0.5897081659506898, 0.5894748447985072, 0.5892426124839881, 0.5890114628954175, 0.5887813899598671, 0.5885523876429378, 0.5883244499485044, 0.588097570918461, 0.5878717446324679, 0.5876469652077015, 0.5874232267986029, 0.5872005235966309, 0.5869788498300149, 0.5867581997635097, 0.5865385676981518, 0.5863199479710169, 0.58610233495498, 0.5858857230584747, 0.5856701067252573, 0.5854554804341688, 0.5852418386989012, 0.5850291760677635, 0.5848174871234502, 0.5846067664828106, 0.5843970087966204, 0.5841882087493528, 0.5839803610589543, 0.5837734604766183, 0.5835675017865629, 0.5833624798058087, 0.5831583893839585, 0.5829552254029783, 0.5827529827769798, 0.5825516564520039, 0.5823512414058063, 0.5821517326476437, 0.5819531252180623, 0.581755414188687, 0.5815585946620115, 0.5813626617711911, 0.5811676106798362, 0.5809734365818068, 0.5807801347010083, 0.5805877002911894, 0.5803961286357415, 0.5802054150474975, 0.5800155548685343, 0.5798265434699752, 0.579638376251794, 0.5794510486426205, 0.5792645560995469, 0.5790788941079362, 0.5788940581812309, 0.5787100438607637, 0.5785268467155698, 0.5783444623421993, 0.5781628863645313, 0.5779821144335904, 0.5778021422273626, 0.5776229654506138, 0.5774445798347086, 0.5772669811374315, 0.5770901651428075, 0.5769141276609261, 0.5767388645277648, 0.5765643716050142, 0.5763906447799049, 0.576217679965035, 0.576045473098199, 0.5758740201422171, 0.5757033170847677, 0.5755333599382183, 0.5753641447394603, 0.5751956675497419, 0.5750279244545058, 0.574860911563224, 0.5746946250092376, 0.5745290609495949, 0.5743642155648915, 0.5742000850591121, 0.5740366656594729, 0.573873953616264, 0.5737119452026959, 0.5735506367147429, 0.5733900244709919, 0.5732301048124884, 0.5730708741025864, 0.572912328726798, 0.5727544650926439, 0.5725972796295059, 0.5724407687884798, 0.5722849290422288, 0.5721297568848391, 0.5719752488316759, 0.5718214014192399, 0.5716682112050258, 0.5715156747673812, 0.5713637887053664, 0.5712125496386155, 0.5710619542071985, 0.5709119990714837, 0.5707626809120023, 0.5706139964293125, 0.5704659423438654, 0.5703185153958721, 0.5701717123451712, 0.5700255299710965, 0.569879965072348, 0.569735014466861, 0.5695906749916783, 0.5694469435028215, 0.5693038168751652, 0.5691612920023099, 0.5690193657964575, 0.5688780351882871, 0.5687372971268315, 0.5685971485793544, 0.5684575865312296, 0.5683186079858191, 0.568180209964354, 0.5680423895058153, 0.5679051436668154, 0.5677684695214809, 0.5676323641613358, 0.567496824695186, 0.5673618482490045, 0.5672274319658166, 0.5670935730055869, 0.5669602685451076, 0.5668275157778854, 0.5666953119140312, 0.5665636541801501, 0.566432539819232, 0.5663019660905428, 0.5661719302695165, 0.5660424296476481, 0.5659134615323876, 0.5657850232470342, 0.5656571121306316, 0.5655297255378636, 0.5654028608389513, 0.56527651541955, 0.5651506866806475, 0.5650253720384628, 0.5649005689243459, 0.5647762747846778, 0.5646524870807716, 0.5645292032887745, 0.5644064208995692, 0.5642841374186776, 0.564162350366165, 0.5640410572765435, 0.5639202556986775, 0.5637999431956903, 0.5636801173448688, 0.5635607757375718, 0.5634419159791381, 0.5633235356887933, 0.563205632499561, 0.5630882040581702, 0.5629712480249675, 0.562854762073827, 0.5627387438920622, 0.5626231911803384, 0.5625081016525852, 0.5623934730359105, 0.5622793030705132, 0.5621655895095997, 0.5620523301192982, 0.5619395226785745, 0.5618271649791486, 0.5617152548254121, 0.561603790034345, 0.5614927684354352, 0.5613821878705958, 0.5612720461940857, 0.5611623412724288, 0.5610530709843351, 0.5609442332206211, 0.5608358258841319, 0.5607278468896634, 0.5606202941638846, 0.5605131656452611, 0.560406459283979, 0.5603001730418692, 0.5601943048923325, 0.5600888528202642, 0.5599838148219809, 0.5598791889051468, 0.5597749730887, 0.5596711654027807, 0.5595677638886594, 0.5594647665986644, 0.5593621715961115, 0.5592599769552336, 0.55915818076111, 0.559056781109598, 0.5589557761072627, 0.558855163871309, 0.5587549425295139, 0.5586551102201579, 0.5585556650919592, 0.558456605304006, 0.5583579290256906, 0.5582596344366442, 0.5581617197266707, 0.5580641830956831, 0.5579670227536376, 0.5578702369204718, 0.5577738238260389, 0.5576777817100466, 0.5575821088219937, 0.5574868034211077, 0.5573918637762841, 0.557297288166024, 0.5572030748783742, 0.557109222210866, 0.5570157284704563, 0.5569225919734663, 0.5568298110455243, 0.5567373840215054, 0.5566453092454746, 0.5565535850706274, 0.5564622098592329, 0.5563711819825773, 0.5562804998209062, 0.5561901617633689, 0.556100166207962, 0.5560105115614743, 0.5559211962394313, 0.5558322186660405, 0.5557435772741371, 0.5556552705051299, 0.5555672968089475, 0.5554796546439852, 0.5553923424770523, 0.5553053587833189, 0.5552187020462644, 0.555132370757625, 0.5550463634173434, 0.5549606785335158, 0.5548753146223432, 0.5547902702080796, 0.5547055438229821, 0.5546211340072621, 0.554537039309035, 0.5544532582842713, 0.5543697894967481, 0.554286631518001, 0.5542037829272753, 0.5541212423114793, 0.5540390082651359, 0.5539570793903362, 0.5538754542966929, 0.5537941316012933, 0.5537131099286536, 0.5536323879106735, 0.5535519641865895, 0.5534718374029314, 0.553392006213476, 0.5533124692792036, 0.5532332252682536, 0.5531542728558796, 0.5530756107244074, 0.5529972375631903, 0.5529191520685667, 0.5528413529438174, 0.552763838899123, 0.5526866086515215, 0.5526096609248671, 0.552532994449788, 0.5524566079636453, 0.552380500210492, 0.5523046699410323, 0.5522291159125812, 0.5521538368890241, 0.5520788316407768, 0.5520040989447464, 0.5519296375842913, 0.5518554463491825, 0.5517815240355646, 0.5517078694459171, 0.5516344813890162, 0.5515613586798969, 0.5514885001398152, 0.5514159045962097, 0.5513435708826657, 0.5512714978388772, 0.5511996843106101, 0.551128129149666, 0.5510568312138462, 0.5509857893669148, 0.5509150024785632, 0.550844469424375, 0.5507741890857903, 0.5507041603500701, 0.5506343821102625, 0.5505648532651674, 0.5504955727193017, 0.5504265393828662, 0.5503577521717112, 0.5502892100073022, 0.550220911816687, 0.5501528565324625, 0.5500850430927415, 0.5500174704411195, 0.5499501375266433, 0.5498830433037767, 0.5498161867323703, 0.5497495667776282, 0.549683182410077, 0.5496170326055335, 0.5495511163450745, 0.5494854326150044, 0.5494199804068256, 0.5493547587172065, 0.5492897665479524, 0.5492250029059736, 0.5491604668032567, 0.5490961572568341, 0.5490320732887539, 0.5489682139260514, 0.5489045782007193, 0.5488411651496778, 0.5487779738147472, 0.548715003242618, 0.5486522524848225, 0.5485897205977072, 0.5485274066424037, 0.5484653096848014, 0.5484034287955192, 0.5483417630498781, 0.548280311527874, 0.5482190733141503, 0.54815804749797, 0.5480972331731906, 0.5480366294382355, 0.5479762353960685, 0.5479160501541676, 0.5478560728244977, 0.5477963025234858, 0.5477367383719944, 0.5476773794952962, 0.5476182250230479, 0.5475592740892659, 0.5475005258323002, 0.54744197939481, 0.5473836339237382, 0.5473254885702871, 0.5472675424898941, 0.5472097948422064, 0.5471522447910582, 0.5470948915044453, 0.5470377341545016, 0.5469807719174758, 0.5469240039737072, 0.5468674295076025, 0.5468110477076126, 0.5467548577662091, 0.5466988588798618, 0.5466430502490154, 0.546587431078067, 0.5465320005753436, 0.5464767579530795, 0.5464217024273943, 0.5463668332182701, 0.5463121495495307, 0.5462576506488187, 0.5462033357475743, 0.5461492040810132, 0.5460952548881063, 0.5460414874115569, 0.5459879008977812, 0.5459344945968856, 0.5458812677626471, 0.5458282196524923, 0.5457753495274759, 0.5457226566522613, 0.5456701402950997, 0.5456177997278105, 0.54556563422576, 0.5455136430678426, 0.5454618255364602, 0.545410180917503, 0.5453587085003295, 0.545307407577748, 0.545256277445995, 0.5452053174047189, 0.5451545267569585, 0.5451039048091257, 0.5450534508709858, 0.5450031642556381, 0.5449530442794993, 0.5449030902622829, 0.5448533015269819, 0.5448036773998505, 0.5447542172103855, 0.5447049202913089, 0.5446557859785491, 0.5446068136112242, 0.544558002531623, 0.5445093520851887, 0.5444608616205002, 0.544412530489256, 0.5443643580462556, 0.5443163436493839, 0.544268486659592, 0.5442207864408831, 0.5441732423602929, 0.5441258537878741, 0.5440786200966807, 0.5440315406627496, 0.5439846148650856, 0.5439378420856444, 0.5438912217093165, 0.5438447531239113, 0.543798435720141, 0.5437522688916046, 0.5437062520347719, 0.5436603845489683, 0.5436146658363588, 0.5435690953019324, 0.5435236723534872, 0.5434783964016144, 0.5434332668596834, 0.5433882831438266, 0.5433434446729248, 0.543298750868591, 0.5432542011551572, 0.5432097949596584, 0.5431655317118181, 0.5431214108440343, 0.5430774317913645, 0.5430335939915114, 0.5429898968848083, 0.5429463399142055, 0.5429029225252557, 0.5428596441661001, 0.5428165042874541, 0.5427735023425939, 0.5427306377873425, 0.5426879100800557, 0.5426453186816089, 0.5426028630553833, 0.5425605426672524, 0.5425183569855689, 0.5424763054811509, 0.5424343876272691, 0.5423926028996338, 0.542350950776381, 0.5423094307380604, 0.5422680422676218, 0.5422267848504024, 0.5421856579741147, 0.5421446611288329, 0.5421037938069806, 0.5420630555033189, 0.5420224457149329, 0.5419819639412199, 0.5419416096838774, 0.5419013824468903, 0.5418612817365192, 0.5418213070612878, 0.5417814579319714, 0.5417417338615851, 0.541702134365371, 0.5416626589607876, 0.5416233071674971, 0.5415840785073543, 0.5415449725043955, 0.5415059886848257, 0.5414671265770076, 0.5414283857114516, 0.5413897656208025, 0.5413512658398295, 0.5413128859054144, 0.5412746253565414, 0.5412364837342846, 0.5411984605817987, 0.5411605554443069, 0.5411227678690904, 0.5410850974054779, 0.5410475436048346, 0.5410101060205516, 0.5409727842080352, 0.5409355777246967, 0.5408984861299418, 0.5408615089851599, 0.5408246458537146, 0.540787896300932, 0.5407512598940923, 0.540714736202418, 0.5406783247970649, 0.5406420252511114, 0.5406058371395491, 0.5405697600392724, 0.5405337935290686, 0.540497937189609, 0.5404621906034379, 0.5404265533549637, 0.5403910250304493, 0.5403556052180019, 0.5403202935075643, 0.5402850894909047, 0.540249992761608, 0.5402150029150657, 0.5401801195484676, 0.5401453422607911, 0.5401106706527937, 0.5400761043270028, 0.5400416428877065, 0.5400072859409455, 0.5399730330945032, 0.5399388839578972, 0.5399048381423707, 0.5398708952608829, 0.5398370549281011, 0.5398033167603915, 0.5397696803758104, 0.5397361453940962, 0.5397027114366598, 0.5396693781265778, 0.5396361450885819, 0.539603011949052, 0.5395699783360078, 0.5395370438790992, 0.5395042082095995, 0.5394714709603967, 0.5394388317659846, 0.5394062902624557, 0.5393738460874926, 0.5393414988803601, 0.5393092482818972, 0.539277093934509, 0.5392450354821586, 0.5392130725703606, 0.5391812048461707, 0.5391494319581811, 0.5391177535565103, 0.5390861692927963, 0.5390546788201893, 0.5390232817933437, 0.5389919778684101, 0.5389607667030294, 0.5389296479563234, 0.5388986212888885, 0.5388676863627884, 0.5388368428415461, 0.5388060903901372, 0.5387754286749821, 0.5387448573639395, 0.5387143761262986, 0.5386839846327725, 0.5386536825554905, 0.5386234695679917, 0.5385933453452173, 0.5385633095635046, 0.5385333619005791, 0.538503502035548, 0.5384737296488934, 0.5384440444224656, 0.5384144460394762, 0.538384934184491, 0.5383555085434241, 0.5383261688035305, 0.5382969146533997, 0.5382677457829494, 0.5382386618834192, 0.5382096626473625, 0.5381807477686421, 0.5381519169424223, 0.5381231698651636, 0.5380945062346152, 0.5380659257498094, 0.538037428111055, 0.5380090130199318, 0.537980680179283, 0.5379524292932103, 0.5379242600670667, 0.5378961722074513, 0.5378681654222027, 0.537840239420393, 0.5378123939123219, 0.5377846286095106, 0.5377569432246957, 0.5377293374718238, 0.5377018110660452, 0.537674363723708, 0.5376469951623526, 0.5376197051007053, 0.5375924932586736, 0.5375653593573394, 0.5375383031189539, 0.5375113242669317, 0.5374844225258454, 0.5374575976214194, 0.5374308492805255, 0.5374041772311762, 0.5373775812025194, 0.5373510609248338, 0.5373246161295221, 0.5372982465491069, 0.5372719519172242, 0.5372457319686191, 0.5372195864391394, 0.537193515065731, 0.5371675175864322, 0.5371415937403694, 0.5371157432677501, 0.5370899659098601, 0.5370642614090556, 0.5370386295087608, 0.5370130699534608, 0.536987582488697, 0.5369621668610632, 0.536936822818199, 0.5369115501087853, 0.5368863484825401, 0.5368612176902128, 0.536836157483579, 0.5368111676154367, 0.5367862478396003, 0.536761397910897, 0.5367366175851603, 0.5367119066192273, 0.5366872647709318, 0.5366626917991013, 0.5366381874635515, 0.5366137515250816, 0.53658938374547, 0.5365650838874695, 0.5365408517148021, 0.5365166869921555, 0.5364925894851783, 0.5364685589604745, 0.5364445951856003, 0.5364206979290584, 0.536396866960295, 0.5363731020496939, 0.5363494029685728, 0.5363257694891792, 0.5363022013846852, 0.5362786984291842, 0.5362552603976853, 0.5362318870661107, 0.5362085782112894, 0.5361853336109548, 0.5361621530437396, 0.5361390362891715, 0.5361159831276692, 0.5360929933405382, 0.5360700667099672, 0.536047203019023, 0.5360244020516473, 0.5360016635926519, 0.5359789874277152, 0.5359563733433783, 0.5359338211270399, 0.535911330566954, 0.5358889014522242, 0.5358665335728015, 0.5358442267194784, 0.5358219806838871, 0.5357997952584939, 0.5357776702365963, 0.5357556054123189, 0.5357336005806095, 0.5357116555372354, 0.5356897700787799, 0.5356679440026374, 0.5356461771070117, 0.53562446919091, 0.5356028200541408, 0.5355812294973097, 0.5355596973218155, 0.5355382233298471, 0.5355168073243798, 0.5354954491091705, 0.5354741484887556, 0.5354529052684476, 0.5354317192543301, 0.535410590253255, 0.5353895180728393, 0.5353685025214614, 0.5353475434082572, 0.5353266405431175, 0.5353057937366836, 0.5352850028003447, 0.5352642675462339, 0.535243587787225, 0.5352229633369296, 0.5352023940096929, 0.5351818796205908, 0.535161419985427, 0.535141014920729, 0.5351206642437447, 0.5351003677724406, 0.5350801253254964, 0.5350599367223033, 0.5350398017829606, 0.5350197203282718, 0.5349996921797422, 0.534979717159575, 0.534959795090669, 0.5349399257966148, 0.5349201091016919, 0.5349003448308655, 0.5348806328097835, 0.5348609728647739, 0.5348413648228405, 0.5348218085116614, 0.5348023037595848, 0.5347828503956265, 0.5347634482494669, 0.5347440971514478, 0.5347247969325697, 0.5347055474244886, 0.5346863484595137, 0.5346671998706034, 0.5346481014913629, 0.5346290531560421, 0.5346100546995318, 0.5345911059573606, 0.5345722067656928, 0.5345533569613256, 0.5345345563816853, 0.5345158048648264, 0.534497102249426, 0.534478448374784, 0.5344598430808181, 0.5344412862080625, 0.5344227775976641, 0.5344043170913808, 0.5343859045315777, 0.5343675397612256, 0.5343492226238972, 0.5343309529637652, 0.5343127306255993, 0.5342945554547637, 0.5342764272972147, 0.5342583459994973, 0.5342403114087435, 0.5342223233726694, 0.5342043817395723, 0.5341864863583289, 0.5341686370783916, 0.5341508337497871, 0.5341330762231137, 0.534115364349538, 0.5340976979807928, 0.5340800769691754, 0.5340625011675441, 0.5340449704293161, 0.5340274846084652, 0.5340100435595192, 0.5339926471375576, 0.5339752951982087, 0.5339579875976485, 0.5339407241925963, 0.5339235048403146, 0.5339063293986046, 0.5338891977258058, 0.5338721096807918, 0.5338550651229694, 0.5338380639122758, 0.5338211059091762, 0.5338041909746615, 0.533787318970246, 0.5337704897579656, 0.5337537032003747, 0.5337369591605449, 0.5337202575020619, 0.5337035980890239, 0.533686980786039, 0.5336704054582234, 0.5336538719711985, 0.5336373801910897, 0.5336209299845233]\n",
            "[1 0 0 0 1 0 0 0 0 1 0 1 0 1 1 0 0 1 0 1 1 0 1 1 1 0 1 1 0 1 1 1 1 1 1 0 1\n",
            " 1 0 1 1 0 1 1 0 0 1 1 0 1 1 1 1 0 0 1 0 1 0 1 1 1 0 1 1 1 0 1 0 1 0 1 1 0\n",
            " 1 1 1 1 1 1 1 0 0 0 1 0 0 0 0 1 1 0 0 1 1 0 0 1 1 0 1 1 0 1 1 0 1 1 1 0 1\n",
            " 1 1 1 0 1 1 1 1 1 0 0 1 1 0 0 0 1 1 1 0 1 1 1 1 1 1 1 0 0 1 0 0 0 0 1 1 1\n",
            " 0 1 1 0 1 1 1 0 1 1 1 1 1 1 1 0 1 0 1 1 0 0 1 1 1 1 0 1 1 1 0 1 1 0 1 1 0\n",
            " 0 1 1 1 1 0 0 1 0 0 0 1 1 1 0 1 1 1 1 1 1 0 1 0 1 1 0 1 1 0 1 0 1 1 0 1 1\n",
            " 0 0 0 0 1 0 1 0 1 0 1 0 1 0 0 1 0 1 0 1 1 1 1 1 0 1 1 1 0 1 0 1 1 1 1 1 0\n",
            " 1 0 0 1 0 0 0 0 1 1 0 0 0 1 0 1 1 1 1 1 1 0 1 1 1 1 0 1 0 1 0 0 0 0 1 1 0\n",
            " 1 0 1 1 1 0 1 1 1 0 1 0 0 1 1 0 1 0 1 1 0 0 0 1 0 1 1 0 1 1 1 1 1 1 0 1 0\n",
            " 0 1 0 1 1 1 1 1 0 1 0 0 1 0 1 1 1 1 1 0 1 0 1 1 0 0 1 1 0 1 1 1 0 1 1 0 1\n",
            " 1 0 0 1 1 1 1 0 0 1 1 1 0 1 1 0 0 0 1 1 0 1 0 1 1 1 1 0 0 1 1 1 1 1 1 1 1\n",
            " 0 0 1 1 1 1 1 0 0 1 0 1 0 0 1 1 1 1 1 0 1 1 1 0 0 1 1 1 1 0 0 0 0 1 1 1 0\n",
            " 0 1 0 1 1 1 0 1 1 0 1 0 1 1 1 1 1 1 1 1 1 1 1 0 0 1 1 1 1 1 1 0 1 0 0 1 0\n",
            " 1 1 0 1 1 1 1 0 1 1 0 1 1 1 1 1 0 0 1 1 1 1 1 0 0 1 0 0 1 1 0 0 1 1 0 0 1\n",
            " 0 1 1 0 1 1 1 1 0 1 0 1 1 0 0 1 1 0 1 1 1 0 1 1 0 1 1 1 1 1 0 0 0 0 0 0 1\n",
            " 0 1 1 1 0 1 1 0 1 1 1 1 0 1 1 1 0 0 1 1 1 1 0 0 1 1 0 1 1 1 0 0 1 0 0 0 1\n",
            " 0 0 1 0 1 1 0 1 0 1 0 1 0 1 1 1 1 1 1 1 1 1 0 0 0 1 1 0 1 0 1 1 0 0 1 1 1\n",
            " 1 0 1 1 1 1 0 0 1 0 1 0 0 0 1 1 0 0 1 0 1 0 0 1 1 1 1 0 1 1 0 1 1 1 0 0 1\n",
            " 1 0 0 0 1 0 1 0 1 0 0 1 1 0 0 0 1 0 0 1 1 0 0 1 1 1 1 1 1 1 1 1 1 1 1 0 0\n",
            " 0 0 0 1 1 0 1 0 1 1 0 0 1 0 1 1 0 1 0 1 1 1 1 0 1 0 1 1 1 1 0 0 1 1 0 0 0\n",
            " 0 1]\n"
          ]
        }
      ]
    }
  ]
}