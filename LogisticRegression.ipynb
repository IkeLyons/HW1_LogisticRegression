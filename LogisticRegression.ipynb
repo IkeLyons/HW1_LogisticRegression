{
  "nbformat": 4,
  "nbformat_minor": 0,
  "metadata": {
    "colab": {
      "name": "LogisticRegression.ipynb",
      "provenance": [],
      "collapsed_sections": [],
      "toc_visible": true,
      "mount_file_id": "1ii0NTjIiXuAMvDRccLARj5ZoEU_RzvIL",
      "authorship_tag": "ABX9TyPTbZCiszqOW1MEAAnjZ/Ww",
      "include_colab_link": true
    },
    "kernelspec": {
      "name": "python3",
      "display_name": "Python 3"
    },
    "language_info": {
      "name": "python"
    }
  },
  "cells": [
    {
      "cell_type": "markdown",
      "metadata": {
        "id": "view-in-github",
        "colab_type": "text"
      },
      "source": [
        "<a href=\"https://colab.research.google.com/github/IkeLyons/HW1_LogisticRegression/blob/main/LogisticRegression.ipynb\" target=\"_parent\"><img src=\"https://colab.research.google.com/assets/colab-badge.svg\" alt=\"Open In Colab\"/></a>"
      ]
    },
    {
      "cell_type": "markdown",
      "metadata": {
        "id": "TLDUgbF-zEtT"
      },
      "source": [
        ""
      ]
    },
    {
      "cell_type": "markdown",
      "metadata": {
        "id": "ByxD47DXywom"
      },
      "source": [
        "# Task 1\n",
        "\n"
      ]
    },
    {
      "cell_type": "markdown",
      "metadata": {
        "id": "UhruJ49iQI8I"
      },
      "source": [
        "The problem that I am going to try to solve using logistic regression is the problem of trying to predict whether or not a student will be accepted to a graduate engineering program. There are a number of different factors that can contribute to a student being accepted and I am planning on looking at factors like gender, GPA, number of internships, and others. Logistic regression is the best choice for solving this problem because a student will either be accepted to the program or not, and the output of logistic regression is binary. Thus, becuase our problem calls for a binary answer and logistic regression provides a binary answer we use it."
      ]
    },
    {
      "cell_type": "markdown",
      "metadata": {
        "id": "eAz2Ty7zzHv8"
      },
      "source": [
        "# Task 2"
      ]
    },
    {
      "cell_type": "markdown",
      "metadata": {
        "id": "Y_8sQ9WQogS_"
      },
      "source": [
        "Start by importing the data:"
      ]
    },
    {
      "cell_type": "code",
      "metadata": {
        "colab": {
          "base_uri": "https://localhost:8080/"
        },
        "id": "BY8Y0PLGwMqk",
        "outputId": "bbae6708-f0ab-40bd-a717-c40ec389c85e"
      },
      "source": [
        "! pip install kaggle"
      ],
      "execution_count": 144,
      "outputs": [
        {
          "output_type": "stream",
          "name": "stdout",
          "text": [
            "Requirement already satisfied: kaggle in /usr/local/lib/python3.7/dist-packages (1.5.12)\n",
            "Requirement already satisfied: requests in /usr/local/lib/python3.7/dist-packages (from kaggle) (2.23.0)\n",
            "Requirement already satisfied: python-dateutil in /usr/local/lib/python3.7/dist-packages (from kaggle) (2.8.2)\n",
            "Requirement already satisfied: urllib3 in /usr/local/lib/python3.7/dist-packages (from kaggle) (1.24.3)\n",
            "Requirement already satisfied: tqdm in /usr/local/lib/python3.7/dist-packages (from kaggle) (4.62.0)\n",
            "Requirement already satisfied: six>=1.10 in /usr/local/lib/python3.7/dist-packages (from kaggle) (1.15.0)\n",
            "Requirement already satisfied: certifi in /usr/local/lib/python3.7/dist-packages (from kaggle) (2021.5.30)\n",
            "Requirement already satisfied: python-slugify in /usr/local/lib/python3.7/dist-packages (from kaggle) (5.0.2)\n",
            "Requirement already satisfied: text-unidecode>=1.3 in /usr/local/lib/python3.7/dist-packages (from python-slugify->kaggle) (1.3)\n",
            "Requirement already satisfied: chardet<4,>=3.0.2 in /usr/local/lib/python3.7/dist-packages (from requests->kaggle) (3.0.4)\n",
            "Requirement already satisfied: idna<3,>=2.5 in /usr/local/lib/python3.7/dist-packages (from requests->kaggle) (2.10)\n"
          ]
        }
      ]
    },
    {
      "cell_type": "code",
      "metadata": {
        "colab": {
          "base_uri": "https://localhost:8080/"
        },
        "id": "PPDBUQe8wg5E",
        "outputId": "3c02145a-2a19-4dcd-ab77-8ab2f5d9c761"
      },
      "source": [
        "! mkdir ~/.kaggle"
      ],
      "execution_count": 145,
      "outputs": [
        {
          "output_type": "stream",
          "name": "stdout",
          "text": [
            "mkdir: cannot create directory ‘/root/.kaggle’: File exists\n"
          ]
        }
      ]
    },
    {
      "cell_type": "code",
      "metadata": {
        "id": "qHDBaTS-wkpn"
      },
      "source": [
        "!cp /content/drive/MyDrive/kaggle.json ~/.kaggle/kaggle.json"
      ],
      "execution_count": 146,
      "outputs": []
    },
    {
      "cell_type": "code",
      "metadata": {
        "colab": {
          "base_uri": "https://localhost:8080/"
        },
        "id": "nHCdBYHCwrgu",
        "outputId": "085bc9ea-7ea6-4e09-911f-f314a7e9928b"
      },
      "source": [
        "! kaggle datasets download tejashvi14/engineering-placements-prediction"
      ],
      "execution_count": 147,
      "outputs": [
        {
          "output_type": "stream",
          "name": "stdout",
          "text": [
            "engineering-placements-prediction.zip: Skipping, found more recently modified local copy (use --force to force download)\n"
          ]
        }
      ]
    },
    {
      "cell_type": "code",
      "metadata": {
        "id": "6-R5IhvOxJPi"
      },
      "source": [
        "! #unzip engineering-placements-prediction.zip"
      ],
      "execution_count": 148,
      "outputs": []
    },
    {
      "cell_type": "markdown",
      "metadata": {
        "id": "X3AwGrxton2z"
      },
      "source": [
        "**Begin Exploratory Data Analysis:**"
      ]
    },
    {
      "cell_type": "code",
      "metadata": {
        "colab": {
          "base_uri": "https://localhost:8080/",
          "height": 206
        },
        "id": "HX2-zPbgmWVz",
        "outputId": "5e8d1ecd-8bb7-4b33-ae72-417d4d8389c8"
      },
      "source": [
        "import pandas as pd\n",
        "import seaborn as sb\n",
        "dataset = pd.read_csv('collegePlace.csv', encoding='utf-8')\n",
        "dataset.head()"
      ],
      "execution_count": 149,
      "outputs": [
        {
          "output_type": "execute_result",
          "data": {
            "text/html": [
              "<div>\n",
              "<style scoped>\n",
              "    .dataframe tbody tr th:only-of-type {\n",
              "        vertical-align: middle;\n",
              "    }\n",
              "\n",
              "    .dataframe tbody tr th {\n",
              "        vertical-align: top;\n",
              "    }\n",
              "\n",
              "    .dataframe thead th {\n",
              "        text-align: right;\n",
              "    }\n",
              "</style>\n",
              "<table border=\"1\" class=\"dataframe\">\n",
              "  <thead>\n",
              "    <tr style=\"text-align: right;\">\n",
              "      <th></th>\n",
              "      <th>Age</th>\n",
              "      <th>Gender</th>\n",
              "      <th>Stream</th>\n",
              "      <th>Internships</th>\n",
              "      <th>CGPA</th>\n",
              "      <th>Hostel</th>\n",
              "      <th>HistoryOfBacklogs</th>\n",
              "      <th>PlacedOrNot</th>\n",
              "    </tr>\n",
              "  </thead>\n",
              "  <tbody>\n",
              "    <tr>\n",
              "      <th>0</th>\n",
              "      <td>22</td>\n",
              "      <td>Male</td>\n",
              "      <td>Electronics And Communication</td>\n",
              "      <td>1</td>\n",
              "      <td>8</td>\n",
              "      <td>1</td>\n",
              "      <td>1</td>\n",
              "      <td>1</td>\n",
              "    </tr>\n",
              "    <tr>\n",
              "      <th>1</th>\n",
              "      <td>21</td>\n",
              "      <td>Female</td>\n",
              "      <td>Computer Science</td>\n",
              "      <td>0</td>\n",
              "      <td>7</td>\n",
              "      <td>1</td>\n",
              "      <td>1</td>\n",
              "      <td>1</td>\n",
              "    </tr>\n",
              "    <tr>\n",
              "      <th>2</th>\n",
              "      <td>22</td>\n",
              "      <td>Female</td>\n",
              "      <td>Information Technology</td>\n",
              "      <td>1</td>\n",
              "      <td>6</td>\n",
              "      <td>0</td>\n",
              "      <td>0</td>\n",
              "      <td>1</td>\n",
              "    </tr>\n",
              "    <tr>\n",
              "      <th>3</th>\n",
              "      <td>21</td>\n",
              "      <td>Male</td>\n",
              "      <td>Information Technology</td>\n",
              "      <td>0</td>\n",
              "      <td>8</td>\n",
              "      <td>0</td>\n",
              "      <td>1</td>\n",
              "      <td>1</td>\n",
              "    </tr>\n",
              "    <tr>\n",
              "      <th>4</th>\n",
              "      <td>22</td>\n",
              "      <td>Male</td>\n",
              "      <td>Mechanical</td>\n",
              "      <td>0</td>\n",
              "      <td>8</td>\n",
              "      <td>1</td>\n",
              "      <td>0</td>\n",
              "      <td>1</td>\n",
              "    </tr>\n",
              "  </tbody>\n",
              "</table>\n",
              "</div>"
            ],
            "text/plain": [
              "   Age  Gender  ... HistoryOfBacklogs  PlacedOrNot\n",
              "0   22    Male  ...                 1            1\n",
              "1   21  Female  ...                 1            1\n",
              "2   22  Female  ...                 0            1\n",
              "3   21    Male  ...                 1            1\n",
              "4   22    Male  ...                 0            1\n",
              "\n",
              "[5 rows x 8 columns]"
            ]
          },
          "metadata": {},
          "execution_count": 149
        }
      ]
    },
    {
      "cell_type": "code",
      "metadata": {
        "colab": {
          "base_uri": "https://localhost:8080/"
        },
        "id": "jqk0so-EpF7T",
        "outputId": "470d0814-6cbe-4b23-8707-7a417f56c14c"
      },
      "source": [
        "dataset.shape"
      ],
      "execution_count": 150,
      "outputs": [
        {
          "output_type": "execute_result",
          "data": {
            "text/plain": [
              "(2966, 8)"
            ]
          },
          "metadata": {},
          "execution_count": 150
        }
      ]
    },
    {
      "cell_type": "code",
      "metadata": {
        "colab": {
          "base_uri": "https://localhost:8080/"
        },
        "id": "FclzoG0Wo5hd",
        "outputId": "bcccd233-1d48-4392-9e8d-faabe4cfa9d9"
      },
      "source": [
        "dataset.isnull().sum()"
      ],
      "execution_count": 151,
      "outputs": [
        {
          "output_type": "execute_result",
          "data": {
            "text/plain": [
              "Age                  0\n",
              "Gender               0\n",
              "Stream               0\n",
              "Internships          0\n",
              "CGPA                 0\n",
              "Hostel               0\n",
              "HistoryOfBacklogs    0\n",
              "PlacedOrNot          0\n",
              "dtype: int64"
            ]
          },
          "metadata": {},
          "execution_count": 151
        }
      ]
    },
    {
      "cell_type": "markdown",
      "metadata": {
        "id": "8aoQJ4kI8bkC"
      },
      "source": [
        "There are no missing values, and thus there wont be any need to remove or change columns/entries in the dataset. Instead lets look at some stats and visualaizations of the data. "
      ]
    },
    {
      "cell_type": "code",
      "metadata": {
        "colab": {
          "base_uri": "https://localhost:8080/",
          "height": 300
        },
        "id": "wf9dzKSdDTHr",
        "outputId": "91879f58-747a-463d-8501-c8a1b42a6ba1"
      },
      "source": [
        "dataset.describe()"
      ],
      "execution_count": 152,
      "outputs": [
        {
          "output_type": "execute_result",
          "data": {
            "text/html": [
              "<div>\n",
              "<style scoped>\n",
              "    .dataframe tbody tr th:only-of-type {\n",
              "        vertical-align: middle;\n",
              "    }\n",
              "\n",
              "    .dataframe tbody tr th {\n",
              "        vertical-align: top;\n",
              "    }\n",
              "\n",
              "    .dataframe thead th {\n",
              "        text-align: right;\n",
              "    }\n",
              "</style>\n",
              "<table border=\"1\" class=\"dataframe\">\n",
              "  <thead>\n",
              "    <tr style=\"text-align: right;\">\n",
              "      <th></th>\n",
              "      <th>Age</th>\n",
              "      <th>Internships</th>\n",
              "      <th>CGPA</th>\n",
              "      <th>Hostel</th>\n",
              "      <th>HistoryOfBacklogs</th>\n",
              "      <th>PlacedOrNot</th>\n",
              "    </tr>\n",
              "  </thead>\n",
              "  <tbody>\n",
              "    <tr>\n",
              "      <th>count</th>\n",
              "      <td>2966.000000</td>\n",
              "      <td>2966.000000</td>\n",
              "      <td>2966.000000</td>\n",
              "      <td>2966.000000</td>\n",
              "      <td>2966.000000</td>\n",
              "      <td>2966.000000</td>\n",
              "    </tr>\n",
              "    <tr>\n",
              "      <th>mean</th>\n",
              "      <td>21.485840</td>\n",
              "      <td>0.703641</td>\n",
              "      <td>7.073837</td>\n",
              "      <td>0.269049</td>\n",
              "      <td>0.192178</td>\n",
              "      <td>0.552596</td>\n",
              "    </tr>\n",
              "    <tr>\n",
              "      <th>std</th>\n",
              "      <td>1.324933</td>\n",
              "      <td>0.740197</td>\n",
              "      <td>0.967748</td>\n",
              "      <td>0.443540</td>\n",
              "      <td>0.394079</td>\n",
              "      <td>0.497310</td>\n",
              "    </tr>\n",
              "    <tr>\n",
              "      <th>min</th>\n",
              "      <td>19.000000</td>\n",
              "      <td>0.000000</td>\n",
              "      <td>5.000000</td>\n",
              "      <td>0.000000</td>\n",
              "      <td>0.000000</td>\n",
              "      <td>0.000000</td>\n",
              "    </tr>\n",
              "    <tr>\n",
              "      <th>25%</th>\n",
              "      <td>21.000000</td>\n",
              "      <td>0.000000</td>\n",
              "      <td>6.000000</td>\n",
              "      <td>0.000000</td>\n",
              "      <td>0.000000</td>\n",
              "      <td>0.000000</td>\n",
              "    </tr>\n",
              "    <tr>\n",
              "      <th>50%</th>\n",
              "      <td>21.000000</td>\n",
              "      <td>1.000000</td>\n",
              "      <td>7.000000</td>\n",
              "      <td>0.000000</td>\n",
              "      <td>0.000000</td>\n",
              "      <td>1.000000</td>\n",
              "    </tr>\n",
              "    <tr>\n",
              "      <th>75%</th>\n",
              "      <td>22.000000</td>\n",
              "      <td>1.000000</td>\n",
              "      <td>8.000000</td>\n",
              "      <td>1.000000</td>\n",
              "      <td>0.000000</td>\n",
              "      <td>1.000000</td>\n",
              "    </tr>\n",
              "    <tr>\n",
              "      <th>max</th>\n",
              "      <td>30.000000</td>\n",
              "      <td>3.000000</td>\n",
              "      <td>9.000000</td>\n",
              "      <td>1.000000</td>\n",
              "      <td>1.000000</td>\n",
              "      <td>1.000000</td>\n",
              "    </tr>\n",
              "  </tbody>\n",
              "</table>\n",
              "</div>"
            ],
            "text/plain": [
              "               Age  Internships  ...  HistoryOfBacklogs  PlacedOrNot\n",
              "count  2966.000000  2966.000000  ...        2966.000000  2966.000000\n",
              "mean     21.485840     0.703641  ...           0.192178     0.552596\n",
              "std       1.324933     0.740197  ...           0.394079     0.497310\n",
              "min      19.000000     0.000000  ...           0.000000     0.000000\n",
              "25%      21.000000     0.000000  ...           0.000000     0.000000\n",
              "50%      21.000000     1.000000  ...           0.000000     1.000000\n",
              "75%      22.000000     1.000000  ...           0.000000     1.000000\n",
              "max      30.000000     3.000000  ...           1.000000     1.000000\n",
              "\n",
              "[8 rows x 6 columns]"
            ]
          },
          "metadata": {},
          "execution_count": 152
        }
      ]
    },
    {
      "cell_type": "code",
      "metadata": {
        "colab": {
          "base_uri": "https://localhost:8080/",
          "height": 238
        },
        "id": "-d-8wJhSKjTm",
        "outputId": "99941509-e726-47eb-fc55-79ea38ac1d20"
      },
      "source": [
        "# taking a look at the correlation of all the values in the dataset\n",
        "dataset.corr()"
      ],
      "execution_count": 153,
      "outputs": [
        {
          "output_type": "execute_result",
          "data": {
            "text/html": [
              "<div>\n",
              "<style scoped>\n",
              "    .dataframe tbody tr th:only-of-type {\n",
              "        vertical-align: middle;\n",
              "    }\n",
              "\n",
              "    .dataframe tbody tr th {\n",
              "        vertical-align: top;\n",
              "    }\n",
              "\n",
              "    .dataframe thead th {\n",
              "        text-align: right;\n",
              "    }\n",
              "</style>\n",
              "<table border=\"1\" class=\"dataframe\">\n",
              "  <thead>\n",
              "    <tr style=\"text-align: right;\">\n",
              "      <th></th>\n",
              "      <th>Age</th>\n",
              "      <th>Internships</th>\n",
              "      <th>CGPA</th>\n",
              "      <th>Hostel</th>\n",
              "      <th>HistoryOfBacklogs</th>\n",
              "      <th>PlacedOrNot</th>\n",
              "    </tr>\n",
              "  </thead>\n",
              "  <tbody>\n",
              "    <tr>\n",
              "      <th>Age</th>\n",
              "      <td>1.000000</td>\n",
              "      <td>0.006552</td>\n",
              "      <td>-0.119787</td>\n",
              "      <td>0.003042</td>\n",
              "      <td>-0.042586</td>\n",
              "      <td>0.046943</td>\n",
              "    </tr>\n",
              "    <tr>\n",
              "      <th>Internships</th>\n",
              "      <td>0.006552</td>\n",
              "      <td>1.000000</td>\n",
              "      <td>0.023496</td>\n",
              "      <td>0.004617</td>\n",
              "      <td>-0.015118</td>\n",
              "      <td>0.179334</td>\n",
              "    </tr>\n",
              "    <tr>\n",
              "      <th>CGPA</th>\n",
              "      <td>-0.119787</td>\n",
              "      <td>0.023496</td>\n",
              "      <td>1.000000</td>\n",
              "      <td>0.014991</td>\n",
              "      <td>0.002576</td>\n",
              "      <td>0.588648</td>\n",
              "    </tr>\n",
              "    <tr>\n",
              "      <th>Hostel</th>\n",
              "      <td>0.003042</td>\n",
              "      <td>0.004617</td>\n",
              "      <td>0.014991</td>\n",
              "      <td>1.000000</td>\n",
              "      <td>0.103506</td>\n",
              "      <td>-0.038182</td>\n",
              "    </tr>\n",
              "    <tr>\n",
              "      <th>HistoryOfBacklogs</th>\n",
              "      <td>-0.042586</td>\n",
              "      <td>-0.015118</td>\n",
              "      <td>0.002576</td>\n",
              "      <td>0.103506</td>\n",
              "      <td>1.000000</td>\n",
              "      <td>-0.022337</td>\n",
              "    </tr>\n",
              "    <tr>\n",
              "      <th>PlacedOrNot</th>\n",
              "      <td>0.046943</td>\n",
              "      <td>0.179334</td>\n",
              "      <td>0.588648</td>\n",
              "      <td>-0.038182</td>\n",
              "      <td>-0.022337</td>\n",
              "      <td>1.000000</td>\n",
              "    </tr>\n",
              "  </tbody>\n",
              "</table>\n",
              "</div>"
            ],
            "text/plain": [
              "                        Age  Internships  ...  HistoryOfBacklogs  PlacedOrNot\n",
              "Age                1.000000     0.006552  ...          -0.042586     0.046943\n",
              "Internships        0.006552     1.000000  ...          -0.015118     0.179334\n",
              "CGPA              -0.119787     0.023496  ...           0.002576     0.588648\n",
              "Hostel             0.003042     0.004617  ...           0.103506    -0.038182\n",
              "HistoryOfBacklogs -0.042586    -0.015118  ...           1.000000    -0.022337\n",
              "PlacedOrNot        0.046943     0.179334  ...          -0.022337     1.000000\n",
              "\n",
              "[6 rows x 6 columns]"
            ]
          },
          "metadata": {},
          "execution_count": 153
        }
      ]
    },
    {
      "cell_type": "code",
      "metadata": {
        "colab": {
          "base_uri": "https://localhost:8080/",
          "height": 283
        },
        "id": "bMX4sdiIEGR4",
        "outputId": "bce7348b-5d46-4df0-b328-b0c67ec95f0e"
      },
      "source": [
        "# Distribution of ages\n",
        "dataset.Age.hist()"
      ],
      "execution_count": 154,
      "outputs": [
        {
          "output_type": "execute_result",
          "data": {
            "text/plain": [
              "<matplotlib.axes._subplots.AxesSubplot at 0x7fb8136bee10>"
            ]
          },
          "metadata": {},
          "execution_count": 154
        },
        {
          "output_type": "display_data",
          "data": {
            "image/png": "[encoded data removed]",
            "text/plain": [
              "<Figure size 432x288 with 1 Axes>"
            ]
          },
          "metadata": {
            "needs_background": "light"
          }
        }
      ]
    },
    {
      "cell_type": "code",
      "metadata": {
        "colab": {
          "base_uri": "https://localhost:8080/",
          "height": 401
        },
        "id": "ODKYD5-UFjH8",
        "outputId": "433d6d0f-9a8d-48fa-bb29-a711a9adbb05"
      },
      "source": [
        "# Seeing if there is any notable correlation betweeen age and placement\n",
        "sb.lmplot(x='Age', y='PlacedOrNot', data=dataset)"
      ],
      "execution_count": 155,
      "outputs": [
        {
          "output_type": "execute_result",
          "data": {
            "text/plain": [
              "<seaborn.axisgrid.FacetGrid at 0x7fb81ae7a710>"
            ]
          },
          "metadata": {},
          "execution_count": 155
        },
        {
          "output_type": "display_data",
          "data": {
            "image/png": "[encoded data removed]",
            "text/plain": [
              "<Figure size 360x360 with 1 Axes>"
            ]
          },
          "metadata": {
            "needs_background": "light"
          }
        }
      ]
    },
    {
      "cell_type": "code",
      "metadata": {
        "colab": {
          "base_uri": "https://localhost:8080/"
        },
        "id": "MjfSsrY7GlGT",
        "outputId": "9a6135a8-f32b-400f-c661-eb9451cbf5a4"
      },
      "source": [
        "# Look at the amount of internships that applicants had\n",
        "dataset.Internships.value_counts()"
      ],
      "execution_count": 156,
      "outputs": [
        {
          "output_type": "execute_result",
          "data": {
            "text/plain": [
              "0    1331\n",
              "1    1234\n",
              "2     350\n",
              "3      51\n",
              "Name: Internships, dtype: int64"
            ]
          },
          "metadata": {},
          "execution_count": 156
        }
      ]
    },
    {
      "cell_type": "code",
      "metadata": {
        "colab": {
          "base_uri": "https://localhost:8080/",
          "height": 401
        },
        "id": "VfNJhq85G-wb",
        "outputId": "999d123e-4748-49c1-f771-a1b6a65c9db6"
      },
      "source": [
        "# Check if there is obvious correlation between number of internships and placement\n",
        "sb.lmplot(x='Internships', y='PlacedOrNot', data=dataset)"
      ],
      "execution_count": 157,
      "outputs": [
        {
          "output_type": "execute_result",
          "data": {
            "text/plain": [
              "<seaborn.axisgrid.FacetGrid at 0x7fb814785950>"
            ]
          },
          "metadata": {},
          "execution_count": 157
        },
        {
          "output_type": "display_data",
          "data": {
            "image/png": "[encoded data removed]",
            "text/plain": [
              "<Figure size 360x360 with 1 Axes>"
            ]
          },
          "metadata": {
            "needs_background": "light"
          }
        }
      ]
    },
    {
      "cell_type": "code",
      "metadata": {
        "colab": {
          "base_uri": "https://localhost:8080/",
          "height": 354
        },
        "id": "eYHwPRcXOMvM",
        "outputId": "c6ffd37c-08a0-4250-c586-eab145fdbce5"
      },
      "source": [
        "# What is the gender of the applicants\n",
        "sb.countplot('Gender', data=dataset)"
      ],
      "execution_count": 158,
      "outputs": [
        {
          "output_type": "stream",
          "name": "stderr",
          "text": [
            "/usr/local/lib/python3.7/dist-packages/seaborn/_decorators.py:43: FutureWarning: Pass the following variable as a keyword arg: x. From version 0.12, the only valid positional argument will be `data`, and passing other arguments without an explicit keyword will result in an error or misinterpretation.\n",
            "  FutureWarning\n"
          ]
        },
        {
          "output_type": "execute_result",
          "data": {
            "text/plain": [
              "<matplotlib.axes._subplots.AxesSubplot at 0x7fb8147f9b50>"
            ]
          },
          "metadata": {},
          "execution_count": 158
        },
        {
          "output_type": "display_data",
          "data": {
            "image/png": "[encoded data removed]",
            "text/plain": [
              "<Figure size 432x288 with 1 Axes>"
            ]
          },
          "metadata": {
            "needs_background": "light"
          }
        }
      ]
    },
    {
      "cell_type": "code",
      "metadata": {
        "colab": {
          "base_uri": "https://localhost:8080/",
          "height": 322
        },
        "id": "jPhJwwEWMJIC",
        "outputId": "fb87fed2-78aa-4c70-e2b4-e18c36c013ce"
      },
      "source": [
        "# what majors are applying to this program\n",
        "dataset.Stream.hist().figure.autofmt_xdate()"
      ],
      "execution_count": 159,
      "outputs": [
        {
          "output_type": "display_data",
          "data": {
            "image/png": "[encoded data removed]",
            "text/plain": [
              "<Figure size 432x288 with 1 Axes>"
            ]
          },
          "metadata": {
            "needs_background": "light"
          }
        }
      ]
    },
    {
      "cell_type": "code",
      "metadata": {
        "colab": {
          "base_uri": "https://localhost:8080/",
          "height": 354
        },
        "id": "kcjSmppTHVj-",
        "outputId": "2ab05b99-69c8-47a3-9487-2585f0485050"
      },
      "source": [
        "# Did students live in a hostel or not\n",
        "dataset.Hostel.value_counts()\n",
        "sb.countplot('Hostel', data=dataset)"
      ],
      "execution_count": 160,
      "outputs": [
        {
          "output_type": "stream",
          "name": "stderr",
          "text": [
            "/usr/local/lib/python3.7/dist-packages/seaborn/_decorators.py:43: FutureWarning: Pass the following variable as a keyword arg: x. From version 0.12, the only valid positional argument will be `data`, and passing other arguments without an explicit keyword will result in an error or misinterpretation.\n",
            "  FutureWarning\n"
          ]
        },
        {
          "output_type": "execute_result",
          "data": {
            "text/plain": [
              "<matplotlib.axes._subplots.AxesSubplot at 0x7fb813393890>"
            ]
          },
          "metadata": {},
          "execution_count": 160
        },
        {
          "output_type": "display_data",
          "data": {
            "image/png": "[encoded data removed]",
            "text/plain": [
              "<Figure size 432x288 with 1 Axes>"
            ]
          },
          "metadata": {
            "needs_background": "light"
          }
        }
      ]
    },
    {
      "cell_type": "code",
      "metadata": {
        "colab": {
          "base_uri": "https://localhost:8080/",
          "height": 357
        },
        "id": "0LJlk_EtJPXS",
        "outputId": "c3479956-b9ef-42fc-da65-a6dbea781f2c"
      },
      "source": [
        "# See how many students have a history of backlog in any subject\n",
        "dataset.HistoryOfBacklogs.value_counts()\n",
        "sb.countplot('HistoryOfBacklogs', data=dataset)"
      ],
      "execution_count": 161,
      "outputs": [
        {
          "output_type": "stream",
          "name": "stderr",
          "text": [
            "/usr/local/lib/python3.7/dist-packages/seaborn/_decorators.py:43: FutureWarning: Pass the following variable as a keyword arg: x. From version 0.12, the only valid positional argument will be `data`, and passing other arguments without an explicit keyword will result in an error or misinterpretation.\n",
            "  FutureWarning\n"
          ]
        },
        {
          "output_type": "execute_result",
          "data": {
            "text/plain": [
              "<matplotlib.axes._subplots.AxesSubplot at 0x7fb8132f6050>"
            ]
          },
          "metadata": {},
          "execution_count": 161
        },
        {
          "output_type": "display_data",
          "data": {
            "image/png": "[encoded data removed]",
            "text/plain": [
              "<Figure size 432x288 with 1 Axes>"
            ]
          },
          "metadata": {
            "needs_background": "light"
          }
        }
      ]
    },
    {
      "cell_type": "markdown",
      "metadata": {
        "id": "viCrfBR_Kwr1"
      },
      "source": [
        "One bit of preprocessing that we have to do before we can actually apply logistic regression is to remove all the strings from the dataset. They have to all be turned to integers so that the regression can understand the input. This needs to be done for both the stream and gender columns. This can easily be done with sklearn's label encoder. "
      ]
    },
    {
      "cell_type": "code",
      "metadata": {
        "colab": {
          "base_uri": "https://localhost:8080/",
          "height": 206
        },
        "id": "aLZxrmNDLv8m",
        "outputId": "8e78a24e-d639-41f0-d663-ac13bf4c5038"
      },
      "source": [
        "from sklearn import preprocessing\n",
        "encoder = preprocessing.LabelEncoder()\n",
        "dataset.Stream = encoder.fit_transform(dataset.Stream)\n",
        "dataset.Gender = encoder.fit_transform(dataset.Gender)\n",
        "# see if the label encoding worked\n",
        "dataset.head()"
      ],
      "execution_count": 162,
      "outputs": [
        {
          "output_type": "execute_result",
          "data": {
            "text/html": [
              "<div>\n",
              "<style scoped>\n",
              "    .dataframe tbody tr th:only-of-type {\n",
              "        vertical-align: middle;\n",
              "    }\n",
              "\n",
              "    .dataframe tbody tr th {\n",
              "        vertical-align: top;\n",
              "    }\n",
              "\n",
              "    .dataframe thead th {\n",
              "        text-align: right;\n",
              "    }\n",
              "</style>\n",
              "<table border=\"1\" class=\"dataframe\">\n",
              "  <thead>\n",
              "    <tr style=\"text-align: right;\">\n",
              "      <th></th>\n",
              "      <th>Age</th>\n",
              "      <th>Gender</th>\n",
              "      <th>Stream</th>\n",
              "      <th>Internships</th>\n",
              "      <th>CGPA</th>\n",
              "      <th>Hostel</th>\n",
              "      <th>HistoryOfBacklogs</th>\n",
              "      <th>PlacedOrNot</th>\n",
              "    </tr>\n",
              "  </thead>\n",
              "  <tbody>\n",
              "    <tr>\n",
              "      <th>0</th>\n",
              "      <td>22</td>\n",
              "      <td>1</td>\n",
              "      <td>3</td>\n",
              "      <td>1</td>\n",
              "      <td>8</td>\n",
              "      <td>1</td>\n",
              "      <td>1</td>\n",
              "      <td>1</td>\n",
              "    </tr>\n",
              "    <tr>\n",
              "      <th>1</th>\n",
              "      <td>21</td>\n",
              "      <td>0</td>\n",
              "      <td>1</td>\n",
              "      <td>0</td>\n",
              "      <td>7</td>\n",
              "      <td>1</td>\n",
              "      <td>1</td>\n",
              "      <td>1</td>\n",
              "    </tr>\n",
              "    <tr>\n",
              "      <th>2</th>\n",
              "      <td>22</td>\n",
              "      <td>0</td>\n",
              "      <td>4</td>\n",
              "      <td>1</td>\n",
              "      <td>6</td>\n",
              "      <td>0</td>\n",
              "      <td>0</td>\n",
              "      <td>1</td>\n",
              "    </tr>\n",
              "    <tr>\n",
              "      <th>3</th>\n",
              "      <td>21</td>\n",
              "      <td>1</td>\n",
              "      <td>4</td>\n",
              "      <td>0</td>\n",
              "      <td>8</td>\n",
              "      <td>0</td>\n",
              "      <td>1</td>\n",
              "      <td>1</td>\n",
              "    </tr>\n",
              "    <tr>\n",
              "      <th>4</th>\n",
              "      <td>22</td>\n",
              "      <td>1</td>\n",
              "      <td>5</td>\n",
              "      <td>0</td>\n",
              "      <td>8</td>\n",
              "      <td>1</td>\n",
              "      <td>0</td>\n",
              "      <td>1</td>\n",
              "    </tr>\n",
              "  </tbody>\n",
              "</table>\n",
              "</div>"
            ],
            "text/plain": [
              "   Age  Gender  Stream  ...  Hostel  HistoryOfBacklogs  PlacedOrNot\n",
              "0   22       1       3  ...       1                  1            1\n",
              "1   21       0       1  ...       1                  1            1\n",
              "2   22       0       4  ...       0                  0            1\n",
              "3   21       1       4  ...       0                  1            1\n",
              "4   22       1       5  ...       1                  0            1\n",
              "\n",
              "[5 rows x 8 columns]"
            ]
          },
          "metadata": {},
          "execution_count": 162
        }
      ]
    },
    {
      "cell_type": "markdown",
      "metadata": {
        "id": "2-vjKQNzuYO2"
      },
      "source": [
        "The next step to getting our data ready for training is to split off the 'PlacedOrNot' column, as this is the label for our dataset. It needs to be use for validation in the loss function and should not be apart of the entries."
      ]
    },
    {
      "cell_type": "code",
      "metadata": {
        "id": "kVhJ2uG7vAe9"
      },
      "source": [
        "X = dataset.drop('PlacedOrNot', 1)\n",
        "y = dataset['PlacedOrNot']"
      ],
      "execution_count": 163,
      "outputs": []
    },
    {
      "cell_type": "markdown",
      "metadata": {
        "id": "X3fcd72x0wNh"
      },
      "source": [
        "After this we need to add another column to the dataset with all ones that will serve as the bias feature. This can be done by converting the dataframe to a numpy array and adding a ones column. This also has the added benefit of staying with numpy arrays, which is easier to do the math on when compared to a dataframe."
      ]
    },
    {
      "cell_type": "code",
      "metadata": {
        "id": "22WHRlYuw5kx"
      },
      "source": [
        "import numpy as np\n",
        "X = X.to_numpy()\n",
        "X = np.c_[X, np.ones(X.shape[0])]\n"
      ],
      "execution_count": 164,
      "outputs": []
    },
    {
      "cell_type": "markdown",
      "metadata": {
        "id": "Q8iwDn9f0-md"
      },
      "source": [
        "Lastly we are going to split our data into some testing data and some training data, using another built in sklearn function."
      ]
    },
    {
      "cell_type": "code",
      "metadata": {
        "id": "quxlyC5k0gJw"
      },
      "source": [
        "from sklearn.model_selection import train_test_split\n",
        "\n",
        "X_train, X_test, y_train, y_test = train_test_split(X, y)\n",
        "y_train = y_train.to_numpy()\n",
        "y_test = y_test.to_numpy()"
      ],
      "execution_count": 165,
      "outputs": []
    },
    {
      "cell_type": "markdown",
      "metadata": {
        "id": "R8538MSIXliF"
      },
      "source": [
        "# Task 3"
      ]
    },
    {
      "cell_type": "code",
      "metadata": {
        "colab": {
          "base_uri": "https://localhost:8080/"
        },
        "id": "4yR5vgXf7iaI",
        "outputId": "f8c77fc3-cc2d-43d9-87d9-75316821f524"
      },
      "source": [
        "def sigmoid(z):\n",
        "  return 1/(1+np.exp(-z))\n",
        "\n",
        "def cost(y, A, m):\n",
        "  return -1/m * np.sum(y * np.log(A) + (1-y) * (np.log(1-A)))\n",
        "\n",
        "def logistic_regression(w, X, y, m, n):\n",
        "  A = sigmoid(np.dot(w.T, X))\n",
        "  print(A)\n",
        "  l = cost(y, A, m)\n",
        "  dw = np.dot(X, (A-y).T)/n\n",
        "  return (A, l, dw)\n",
        "\n",
        "def bgd(w, X, y):\n",
        "  lr = .001\n",
        "  num_epochs = 20\n",
        "  for i in range(num_epochs):\n",
        "    _, _, dw = logistic_regression(w, X, y, X.shape[0], X.shape[1])\n",
        "\n",
        "w = np.zeros(X_train.shape[0])\n",
        "print(w.shape)\n",
        "print(X_train.shape)\n",
        "y_train = np.reshape(y_train, (y_train.shape[0], 1))\n",
        "print(y_train.shape)\n",
        "bgd(w, X_train, y_train)\n"
      ],
      "execution_count": 166,
      "outputs": [
        {
          "output_type": "stream",
          "name": "stdout",
          "text": [
            "(2224,)\n",
            "(2224, 8)\n",
            "(2224, 1)\n",
            "[0.5 0.5 0.5 0.5 0.5 0.5 0.5 0.5]\n",
            "[0.5 0.5 0.5 0.5 0.5 0.5 0.5 0.5]\n",
            "[0.5 0.5 0.5 0.5 0.5 0.5 0.5 0.5]\n",
            "[0.5 0.5 0.5 0.5 0.5 0.5 0.5 0.5]\n",
            "[0.5 0.5 0.5 0.5 0.5 0.5 0.5 0.5]\n",
            "[0.5 0.5 0.5 0.5 0.5 0.5 0.5 0.5]\n",
            "[0.5 0.5 0.5 0.5 0.5 0.5 0.5 0.5]\n",
            "[0.5 0.5 0.5 0.5 0.5 0.5 0.5 0.5]\n",
            "[0.5 0.5 0.5 0.5 0.5 0.5 0.5 0.5]\n",
            "[0.5 0.5 0.5 0.5 0.5 0.5 0.5 0.5]\n",
            "[0.5 0.5 0.5 0.5 0.5 0.5 0.5 0.5]\n",
            "[0.5 0.5 0.5 0.5 0.5 0.5 0.5 0.5]\n",
            "[0.5 0.5 0.5 0.5 0.5 0.5 0.5 0.5]\n",
            "[0.5 0.5 0.5 0.5 0.5 0.5 0.5 0.5]\n",
            "[0.5 0.5 0.5 0.5 0.5 0.5 0.5 0.5]\n",
            "[0.5 0.5 0.5 0.5 0.5 0.5 0.5 0.5]\n",
            "[0.5 0.5 0.5 0.5 0.5 0.5 0.5 0.5]\n",
            "[0.5 0.5 0.5 0.5 0.5 0.5 0.5 0.5]\n",
            "[0.5 0.5 0.5 0.5 0.5 0.5 0.5 0.5]\n",
            "[0.5 0.5 0.5 0.5 0.5 0.5 0.5 0.5]\n"
          ]
        }
      ]
    },
    {
      "cell_type": "code",
      "metadata": {
        "id": "kXoFbhADHwcj"
      },
      "source": [
        ""
      ],
      "execution_count": null,
      "outputs": []
    }
  ]
}