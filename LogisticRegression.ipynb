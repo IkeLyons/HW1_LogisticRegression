{
  "nbformat": 4,
  "nbformat_minor": 0,
  "metadata": {
    "colab": {
      "name": "LogisticRegression.ipynb",
      "provenance": [],
      "collapsed_sections": [],
      "toc_visible": true,
      "mount_file_id": "1ii0NTjIiXuAMvDRccLARj5ZoEU_RzvIL",
      "authorship_tag": "ABX9TyMkjkQjOQOGuNogcZuRJbcn",
      "include_colab_link": true
    },
    "kernelspec": {
      "name": "python3",
      "display_name": "Python 3"
    },
    "language_info": {
      "name": "python"
    }
  },
  "cells": [
    {
      "cell_type": "markdown",
      "metadata": {
        "id": "view-in-github",
        "colab_type": "text"
      },
      "source": [
        "<a href=\"https://colab.research.google.com/github/IkeLyons/HW1_LogisticRegression/blob/main/LogisticRegression.ipynb\" target=\"_parent\"><img src=\"https://colab.research.google.com/assets/colab-badge.svg\" alt=\"Open In Colab\"/></a>"
      ]
    },
    {
      "cell_type": "markdown",
      "metadata": {
        "id": "TLDUgbF-zEtT"
      },
      "source": [
        ""
      ]
    },
    {
      "cell_type": "markdown",
      "metadata": {
        "id": "ByxD47DXywom"
      },
      "source": [
        "# Task 1\n",
        "\n"
      ]
    },
    {
      "cell_type": "markdown",
      "metadata": {
        "id": "UhruJ49iQI8I"
      },
      "source": [
        "The problem that I am going to try to solve using logistic regression is the problem of trying to predict whether or not a student will be accepted to a graduate engineering program. There are a number of different factors that can contribute to a student being accepted and I am planning on looking at factors like gender, GPA, number of internships, and others. Logistic regression is the best choice for solving this problem because a student will either be accepted to the program or not, and the output of logistic regression is binary. Thus, becuase our problem calls for a binary answer and logistic regression provides a binary answer we use it."
      ]
    },
    {
      "cell_type": "markdown",
      "metadata": {
        "id": "eAz2Ty7zzHv8"
      },
      "source": [
        "# Task 2"
      ]
    },
    {
      "cell_type": "markdown",
      "metadata": {
        "id": "Y_8sQ9WQogS_"
      },
      "source": [
        "Start by importing the data:"
      ]
    },
    {
      "cell_type": "code",
      "metadata": {
        "colab": {
          "base_uri": "https://localhost:8080/"
        },
        "id": "BY8Y0PLGwMqk",
        "outputId": "93e0c6a0-85d1-4dd7-b526-a65f37c296ae"
      },
      "source": [
        "! pip install kaggle"
      ],
      "execution_count": 290,
      "outputs": [
        {
          "output_type": "stream",
          "name": "stdout",
          "text": [
            "Requirement already satisfied: kaggle in /usr/local/lib/python3.7/dist-packages (1.5.12)\n",
            "Requirement already satisfied: python-dateutil in /usr/local/lib/python3.7/dist-packages (from kaggle) (2.8.2)\n",
            "Requirement already satisfied: requests in /usr/local/lib/python3.7/dist-packages (from kaggle) (2.23.0)\n",
            "Requirement already satisfied: python-slugify in /usr/local/lib/python3.7/dist-packages (from kaggle) (5.0.2)\n",
            "Requirement already satisfied: urllib3 in /usr/local/lib/python3.7/dist-packages (from kaggle) (1.24.3)\n",
            "Requirement already satisfied: six>=1.10 in /usr/local/lib/python3.7/dist-packages (from kaggle) (1.15.0)\n",
            "Requirement already satisfied: certifi in /usr/local/lib/python3.7/dist-packages (from kaggle) (2021.5.30)\n",
            "Requirement already satisfied: tqdm in /usr/local/lib/python3.7/dist-packages (from kaggle) (4.62.0)\n",
            "Requirement already satisfied: text-unidecode>=1.3 in /usr/local/lib/python3.7/dist-packages (from python-slugify->kaggle) (1.3)\n",
            "Requirement already satisfied: chardet<4,>=3.0.2 in /usr/local/lib/python3.7/dist-packages (from requests->kaggle) (3.0.4)\n",
            "Requirement already satisfied: idna<3,>=2.5 in /usr/local/lib/python3.7/dist-packages (from requests->kaggle) (2.10)\n"
          ]
        }
      ]
    },
    {
      "cell_type": "code",
      "metadata": {
        "colab": {
          "base_uri": "https://localhost:8080/"
        },
        "id": "PPDBUQe8wg5E",
        "outputId": "e22ce736-c7b9-4aae-c13f-1c26cde9abea"
      },
      "source": [
        "! mkdir ~/.kaggle"
      ],
      "execution_count": 291,
      "outputs": [
        {
          "output_type": "stream",
          "name": "stdout",
          "text": [
            "mkdir: cannot create directory ‘/root/.kaggle’: File exists\n"
          ]
        }
      ]
    },
    {
      "cell_type": "code",
      "metadata": {
        "id": "qHDBaTS-wkpn"
      },
      "source": [
        "!cp /content/drive/MyDrive/kaggle.json ~/.kaggle/kaggle.json"
      ],
      "execution_count": 292,
      "outputs": []
    },
    {
      "cell_type": "code",
      "metadata": {
        "colab": {
          "base_uri": "https://localhost:8080/"
        },
        "id": "nHCdBYHCwrgu",
        "outputId": "e01fe2c6-76b9-409a-d84d-5d08494c898c"
      },
      "source": [
        "! kaggle datasets download tejashvi14/engineering-placements-prediction"
      ],
      "execution_count": 293,
      "outputs": [
        {
          "output_type": "stream",
          "name": "stdout",
          "text": [
            "engineering-placements-prediction.zip: Skipping, found more recently modified local copy (use --force to force download)\n"
          ]
        }
      ]
    },
    {
      "cell_type": "code",
      "metadata": {
        "id": "6-R5IhvOxJPi"
      },
      "source": [
        "! #unzip engineering-placements-prediction.zip"
      ],
      "execution_count": 294,
      "outputs": []
    },
    {
      "cell_type": "markdown",
      "metadata": {
        "id": "X3AwGrxton2z"
      },
      "source": [
        "**Begin Exploratory Data Analysis:**"
      ]
    },
    {
      "cell_type": "code",
      "metadata": {
        "colab": {
          "base_uri": "https://localhost:8080/",
          "height": 206
        },
        "id": "HX2-zPbgmWVz",
        "outputId": "03381d01-0e77-4b82-e7af-c98c585a4b42"
      },
      "source": [
        "import pandas as pd\n",
        "import seaborn as sb\n",
        "dataset = pd.read_csv('collegePlace.csv', encoding='utf-8')\n",
        "dataset.head()"
      ],
      "execution_count": 295,
      "outputs": [
        {
          "output_type": "execute_result",
          "data": {
            "text/html": [
              "<div>\n",
              "<style scoped>\n",
              "    .dataframe tbody tr th:only-of-type {\n",
              "        vertical-align: middle;\n",
              "    }\n",
              "\n",
              "    .dataframe tbody tr th {\n",
              "        vertical-align: top;\n",
              "    }\n",
              "\n",
              "    .dataframe thead th {\n",
              "        text-align: right;\n",
              "    }\n",
              "</style>\n",
              "<table border=\"1\" class=\"dataframe\">\n",
              "  <thead>\n",
              "    <tr style=\"text-align: right;\">\n",
              "      <th></th>\n",
              "      <th>Age</th>\n",
              "      <th>Gender</th>\n",
              "      <th>Stream</th>\n",
              "      <th>Internships</th>\n",
              "      <th>CGPA</th>\n",
              "      <th>Hostel</th>\n",
              "      <th>HistoryOfBacklogs</th>\n",
              "      <th>PlacedOrNot</th>\n",
              "    </tr>\n",
              "  </thead>\n",
              "  <tbody>\n",
              "    <tr>\n",
              "      <th>0</th>\n",
              "      <td>22</td>\n",
              "      <td>Male</td>\n",
              "      <td>Electronics And Communication</td>\n",
              "      <td>1</td>\n",
              "      <td>8</td>\n",
              "      <td>1</td>\n",
              "      <td>1</td>\n",
              "      <td>1</td>\n",
              "    </tr>\n",
              "    <tr>\n",
              "      <th>1</th>\n",
              "      <td>21</td>\n",
              "      <td>Female</td>\n",
              "      <td>Computer Science</td>\n",
              "      <td>0</td>\n",
              "      <td>7</td>\n",
              "      <td>1</td>\n",
              "      <td>1</td>\n",
              "      <td>1</td>\n",
              "    </tr>\n",
              "    <tr>\n",
              "      <th>2</th>\n",
              "      <td>22</td>\n",
              "      <td>Female</td>\n",
              "      <td>Information Technology</td>\n",
              "      <td>1</td>\n",
              "      <td>6</td>\n",
              "      <td>0</td>\n",
              "      <td>0</td>\n",
              "      <td>1</td>\n",
              "    </tr>\n",
              "    <tr>\n",
              "      <th>3</th>\n",
              "      <td>21</td>\n",
              "      <td>Male</td>\n",
              "      <td>Information Technology</td>\n",
              "      <td>0</td>\n",
              "      <td>8</td>\n",
              "      <td>0</td>\n",
              "      <td>1</td>\n",
              "      <td>1</td>\n",
              "    </tr>\n",
              "    <tr>\n",
              "      <th>4</th>\n",
              "      <td>22</td>\n",
              "      <td>Male</td>\n",
              "      <td>Mechanical</td>\n",
              "      <td>0</td>\n",
              "      <td>8</td>\n",
              "      <td>1</td>\n",
              "      <td>0</td>\n",
              "      <td>1</td>\n",
              "    </tr>\n",
              "  </tbody>\n",
              "</table>\n",
              "</div>"
            ],
            "text/plain": [
              "   Age  Gender  ... HistoryOfBacklogs  PlacedOrNot\n",
              "0   22    Male  ...                 1            1\n",
              "1   21  Female  ...                 1            1\n",
              "2   22  Female  ...                 0            1\n",
              "3   21    Male  ...                 1            1\n",
              "4   22    Male  ...                 0            1\n",
              "\n",
              "[5 rows x 8 columns]"
            ]
          },
          "metadata": {},
          "execution_count": 295
        }
      ]
    },
    {
      "cell_type": "code",
      "metadata": {
        "colab": {
          "base_uri": "https://localhost:8080/"
        },
        "id": "jqk0so-EpF7T",
        "outputId": "4a47d3bf-c0df-4a4a-8496-76f1b001b770"
      },
      "source": [
        "dataset.shape"
      ],
      "execution_count": 296,
      "outputs": [
        {
          "output_type": "execute_result",
          "data": {
            "text/plain": [
              "(2966, 8)"
            ]
          },
          "metadata": {},
          "execution_count": 296
        }
      ]
    },
    {
      "cell_type": "code",
      "metadata": {
        "colab": {
          "base_uri": "https://localhost:8080/"
        },
        "id": "FclzoG0Wo5hd",
        "outputId": "62ee79db-1b0b-4fa0-bcee-76a92643a5d9"
      },
      "source": [
        "dataset.isnull().sum()"
      ],
      "execution_count": 297,
      "outputs": [
        {
          "output_type": "execute_result",
          "data": {
            "text/plain": [
              "Age                  0\n",
              "Gender               0\n",
              "Stream               0\n",
              "Internships          0\n",
              "CGPA                 0\n",
              "Hostel               0\n",
              "HistoryOfBacklogs    0\n",
              "PlacedOrNot          0\n",
              "dtype: int64"
            ]
          },
          "metadata": {},
          "execution_count": 297
        }
      ]
    },
    {
      "cell_type": "markdown",
      "metadata": {
        "id": "8aoQJ4kI8bkC"
      },
      "source": [
        "There are no missing values, and thus there wont be any need to remove or change columns/entries in the dataset. Instead lets look at some stats and visualaizations of the data. "
      ]
    },
    {
      "cell_type": "code",
      "metadata": {
        "colab": {
          "base_uri": "https://localhost:8080/",
          "height": 300
        },
        "id": "wf9dzKSdDTHr",
        "outputId": "d27b25e8-5c78-49e7-c4f8-ae3329f89c71"
      },
      "source": [
        "dataset.describe()"
      ],
      "execution_count": 298,
      "outputs": [
        {
          "output_type": "execute_result",
          "data": {
            "text/html": [
              "<div>\n",
              "<style scoped>\n",
              "    .dataframe tbody tr th:only-of-type {\n",
              "        vertical-align: middle;\n",
              "    }\n",
              "\n",
              "    .dataframe tbody tr th {\n",
              "        vertical-align: top;\n",
              "    }\n",
              "\n",
              "    .dataframe thead th {\n",
              "        text-align: right;\n",
              "    }\n",
              "</style>\n",
              "<table border=\"1\" class=\"dataframe\">\n",
              "  <thead>\n",
              "    <tr style=\"text-align: right;\">\n",
              "      <th></th>\n",
              "      <th>Age</th>\n",
              "      <th>Internships</th>\n",
              "      <th>CGPA</th>\n",
              "      <th>Hostel</th>\n",
              "      <th>HistoryOfBacklogs</th>\n",
              "      <th>PlacedOrNot</th>\n",
              "    </tr>\n",
              "  </thead>\n",
              "  <tbody>\n",
              "    <tr>\n",
              "      <th>count</th>\n",
              "      <td>2966.000000</td>\n",
              "      <td>2966.000000</td>\n",
              "      <td>2966.000000</td>\n",
              "      <td>2966.000000</td>\n",
              "      <td>2966.000000</td>\n",
              "      <td>2966.000000</td>\n",
              "    </tr>\n",
              "    <tr>\n",
              "      <th>mean</th>\n",
              "      <td>21.485840</td>\n",
              "      <td>0.703641</td>\n",
              "      <td>7.073837</td>\n",
              "      <td>0.269049</td>\n",
              "      <td>0.192178</td>\n",
              "      <td>0.552596</td>\n",
              "    </tr>\n",
              "    <tr>\n",
              "      <th>std</th>\n",
              "      <td>1.324933</td>\n",
              "      <td>0.740197</td>\n",
              "      <td>0.967748</td>\n",
              "      <td>0.443540</td>\n",
              "      <td>0.394079</td>\n",
              "      <td>0.497310</td>\n",
              "    </tr>\n",
              "    <tr>\n",
              "      <th>min</th>\n",
              "      <td>19.000000</td>\n",
              "      <td>0.000000</td>\n",
              "      <td>5.000000</td>\n",
              "      <td>0.000000</td>\n",
              "      <td>0.000000</td>\n",
              "      <td>0.000000</td>\n",
              "    </tr>\n",
              "    <tr>\n",
              "      <th>25%</th>\n",
              "      <td>21.000000</td>\n",
              "      <td>0.000000</td>\n",
              "      <td>6.000000</td>\n",
              "      <td>0.000000</td>\n",
              "      <td>0.000000</td>\n",
              "      <td>0.000000</td>\n",
              "    </tr>\n",
              "    <tr>\n",
              "      <th>50%</th>\n",
              "      <td>21.000000</td>\n",
              "      <td>1.000000</td>\n",
              "      <td>7.000000</td>\n",
              "      <td>0.000000</td>\n",
              "      <td>0.000000</td>\n",
              "      <td>1.000000</td>\n",
              "    </tr>\n",
              "    <tr>\n",
              "      <th>75%</th>\n",
              "      <td>22.000000</td>\n",
              "      <td>1.000000</td>\n",
              "      <td>8.000000</td>\n",
              "      <td>1.000000</td>\n",
              "      <td>0.000000</td>\n",
              "      <td>1.000000</td>\n",
              "    </tr>\n",
              "    <tr>\n",
              "      <th>max</th>\n",
              "      <td>30.000000</td>\n",
              "      <td>3.000000</td>\n",
              "      <td>9.000000</td>\n",
              "      <td>1.000000</td>\n",
              "      <td>1.000000</td>\n",
              "      <td>1.000000</td>\n",
              "    </tr>\n",
              "  </tbody>\n",
              "</table>\n",
              "</div>"
            ],
            "text/plain": [
              "               Age  Internships  ...  HistoryOfBacklogs  PlacedOrNot\n",
              "count  2966.000000  2966.000000  ...        2966.000000  2966.000000\n",
              "mean     21.485840     0.703641  ...           0.192178     0.552596\n",
              "std       1.324933     0.740197  ...           0.394079     0.497310\n",
              "min      19.000000     0.000000  ...           0.000000     0.000000\n",
              "25%      21.000000     0.000000  ...           0.000000     0.000000\n",
              "50%      21.000000     1.000000  ...           0.000000     1.000000\n",
              "75%      22.000000     1.000000  ...           0.000000     1.000000\n",
              "max      30.000000     3.000000  ...           1.000000     1.000000\n",
              "\n",
              "[8 rows x 6 columns]"
            ]
          },
          "metadata": {},
          "execution_count": 298
        }
      ]
    },
    {
      "cell_type": "code",
      "metadata": {
        "colab": {
          "base_uri": "https://localhost:8080/",
          "height": 238
        },
        "id": "-d-8wJhSKjTm",
        "outputId": "cab43ed2-41cd-485a-dc42-41da39848ba0"
      },
      "source": [
        "# taking a look at the correlation of all the values in the dataset\n",
        "dataset.corr()"
      ],
      "execution_count": 299,
      "outputs": [
        {
          "output_type": "execute_result",
          "data": {
            "text/html": [
              "<div>\n",
              "<style scoped>\n",
              "    .dataframe tbody tr th:only-of-type {\n",
              "        vertical-align: middle;\n",
              "    }\n",
              "\n",
              "    .dataframe tbody tr th {\n",
              "        vertical-align: top;\n",
              "    }\n",
              "\n",
              "    .dataframe thead th {\n",
              "        text-align: right;\n",
              "    }\n",
              "</style>\n",
              "<table border=\"1\" class=\"dataframe\">\n",
              "  <thead>\n",
              "    <tr style=\"text-align: right;\">\n",
              "      <th></th>\n",
              "      <th>Age</th>\n",
              "      <th>Internships</th>\n",
              "      <th>CGPA</th>\n",
              "      <th>Hostel</th>\n",
              "      <th>HistoryOfBacklogs</th>\n",
              "      <th>PlacedOrNot</th>\n",
              "    </tr>\n",
              "  </thead>\n",
              "  <tbody>\n",
              "    <tr>\n",
              "      <th>Age</th>\n",
              "      <td>1.000000</td>\n",
              "      <td>0.006552</td>\n",
              "      <td>-0.119787</td>\n",
              "      <td>0.003042</td>\n",
              "      <td>-0.042586</td>\n",
              "      <td>0.046943</td>\n",
              "    </tr>\n",
              "    <tr>\n",
              "      <th>Internships</th>\n",
              "      <td>0.006552</td>\n",
              "      <td>1.000000</td>\n",
              "      <td>0.023496</td>\n",
              "      <td>0.004617</td>\n",
              "      <td>-0.015118</td>\n",
              "      <td>0.179334</td>\n",
              "    </tr>\n",
              "    <tr>\n",
              "      <th>CGPA</th>\n",
              "      <td>-0.119787</td>\n",
              "      <td>0.023496</td>\n",
              "      <td>1.000000</td>\n",
              "      <td>0.014991</td>\n",
              "      <td>0.002576</td>\n",
              "      <td>0.588648</td>\n",
              "    </tr>\n",
              "    <tr>\n",
              "      <th>Hostel</th>\n",
              "      <td>0.003042</td>\n",
              "      <td>0.004617</td>\n",
              "      <td>0.014991</td>\n",
              "      <td>1.000000</td>\n",
              "      <td>0.103506</td>\n",
              "      <td>-0.038182</td>\n",
              "    </tr>\n",
              "    <tr>\n",
              "      <th>HistoryOfBacklogs</th>\n",
              "      <td>-0.042586</td>\n",
              "      <td>-0.015118</td>\n",
              "      <td>0.002576</td>\n",
              "      <td>0.103506</td>\n",
              "      <td>1.000000</td>\n",
              "      <td>-0.022337</td>\n",
              "    </tr>\n",
              "    <tr>\n",
              "      <th>PlacedOrNot</th>\n",
              "      <td>0.046943</td>\n",
              "      <td>0.179334</td>\n",
              "      <td>0.588648</td>\n",
              "      <td>-0.038182</td>\n",
              "      <td>-0.022337</td>\n",
              "      <td>1.000000</td>\n",
              "    </tr>\n",
              "  </tbody>\n",
              "</table>\n",
              "</div>"
            ],
            "text/plain": [
              "                        Age  Internships  ...  HistoryOfBacklogs  PlacedOrNot\n",
              "Age                1.000000     0.006552  ...          -0.042586     0.046943\n",
              "Internships        0.006552     1.000000  ...          -0.015118     0.179334\n",
              "CGPA              -0.119787     0.023496  ...           0.002576     0.588648\n",
              "Hostel             0.003042     0.004617  ...           0.103506    -0.038182\n",
              "HistoryOfBacklogs -0.042586    -0.015118  ...           1.000000    -0.022337\n",
              "PlacedOrNot        0.046943     0.179334  ...          -0.022337     1.000000\n",
              "\n",
              "[6 rows x 6 columns]"
            ]
          },
          "metadata": {},
          "execution_count": 299
        }
      ]
    },
    {
      "cell_type": "code",
      "metadata": {
        "colab": {
          "base_uri": "https://localhost:8080/",
          "height": 283
        },
        "id": "bMX4sdiIEGR4",
        "outputId": "3555cfd5-6407-4b34-e685-2cd282eec27d"
      },
      "source": [
        "# Distribution of ages\n",
        "dataset.Age.hist()"
      ],
      "execution_count": 300,
      "outputs": [
        {
          "output_type": "execute_result",
          "data": {
            "text/plain": [
              "<matplotlib.axes._subplots.AxesSubplot at 0x7fb813045350>"
            ]
          },
          "metadata": {},
          "execution_count": 300
        },
        {
          "output_type": "display_data",
          "data": {
            "image/png": "[encoded data removed]",
            "text/plain": [
              "<Figure size 432x288 with 1 Axes>"
            ]
          },
          "metadata": {
            "needs_background": "light"
          }
        }
      ]
    },
    {
      "cell_type": "code",
      "metadata": {
        "colab": {
          "base_uri": "https://localhost:8080/",
          "height": 401
        },
        "id": "ODKYD5-UFjH8",
        "outputId": "d1dd7e75-e7dd-4e34-c1e6-a45374b9d42f"
      },
      "source": [
        "# Seeing if there is any notable correlation betweeen age and placement\n",
        "sb.lmplot(x='Age', y='PlacedOrNot', data=dataset)"
      ],
      "execution_count": 301,
      "outputs": [
        {
          "output_type": "execute_result",
          "data": {
            "text/plain": [
              "<seaborn.axisgrid.FacetGrid at 0x7fb812f65550>"
            ]
          },
          "metadata": {},
          "execution_count": 301
        },
        {
          "output_type": "display_data",
          "data": {
            "image/png": "[encoded data removed]",
            "text/plain": [
              "<Figure size 360x360 with 1 Axes>"
            ]
          },
          "metadata": {
            "needs_background": "light"
          }
        }
      ]
    },
    {
      "cell_type": "code",
      "metadata": {
        "colab": {
          "base_uri": "https://localhost:8080/"
        },
        "id": "MjfSsrY7GlGT",
        "outputId": "b433cf2e-aaf2-43e8-bf6a-71b5c5dbc16f"
      },
      "source": [
        "# Look at the amount of internships that applicants had\n",
        "dataset.Internships.value_counts()"
      ],
      "execution_count": 302,
      "outputs": [
        {
          "output_type": "execute_result",
          "data": {
            "text/plain": [
              "0    1331\n",
              "1    1234\n",
              "2     350\n",
              "3      51\n",
              "Name: Internships, dtype: int64"
            ]
          },
          "metadata": {},
          "execution_count": 302
        }
      ]
    },
    {
      "cell_type": "code",
      "metadata": {
        "colab": {
          "base_uri": "https://localhost:8080/",
          "height": 401
        },
        "id": "VfNJhq85G-wb",
        "outputId": "5aabe997-6d55-4d8a-e90b-e737627dedb0"
      },
      "source": [
        "# Check if there is obvious correlation between number of internships and placement\n",
        "sb.lmplot(x='Internships', y='PlacedOrNot', data=dataset)"
      ],
      "execution_count": 303,
      "outputs": [
        {
          "output_type": "execute_result",
          "data": {
            "text/plain": [
              "<seaborn.axisgrid.FacetGrid at 0x7fb812e177d0>"
            ]
          },
          "metadata": {},
          "execution_count": 303
        },
        {
          "output_type": "display_data",
          "data": {
            "image/png": "[encoded data removed]",
            "text/plain": [
              "<Figure size 360x360 with 1 Axes>"
            ]
          },
          "metadata": {
            "needs_background": "light"
          }
        }
      ]
    },
    {
      "cell_type": "code",
      "metadata": {
        "colab": {
          "base_uri": "https://localhost:8080/",
          "height": 354
        },
        "id": "eYHwPRcXOMvM",
        "outputId": "ce278ed6-8bdb-4e53-f07b-61caa37376e4"
      },
      "source": [
        "# What is the gender of the applicants\n",
        "sb.countplot('Gender', data=dataset)"
      ],
      "execution_count": 304,
      "outputs": [
        {
          "output_type": "stream",
          "name": "stderr",
          "text": [
            "/usr/local/lib/python3.7/dist-packages/seaborn/_decorators.py:43: FutureWarning: Pass the following variable as a keyword arg: x. From version 0.12, the only valid positional argument will be `data`, and passing other arguments without an explicit keyword will result in an error or misinterpretation.\n",
            "  FutureWarning\n"
          ]
        },
        {
          "output_type": "execute_result",
          "data": {
            "text/plain": [
              "<matplotlib.axes._subplots.AxesSubplot at 0x7fb812da30d0>"
            ]
          },
          "metadata": {},
          "execution_count": 304
        },
        {
          "output_type": "display_data",
          "data": {
            "image/png": "[encoded data removed]",
            "text/plain": [
              "<Figure size 432x288 with 1 Axes>"
            ]
          },
          "metadata": {
            "needs_background": "light"
          }
        }
      ]
    },
    {
      "cell_type": "code",
      "metadata": {
        "colab": {
          "base_uri": "https://localhost:8080/",
          "height": 322
        },
        "id": "jPhJwwEWMJIC",
        "outputId": "a3ae1cf4-d02a-4c78-ff7a-28884a347843"
      },
      "source": [
        "# what majors are applying to this program\n",
        "dataset.Stream.hist().figure.autofmt_xdate()"
      ],
      "execution_count": 305,
      "outputs": [
        {
          "output_type": "display_data",
          "data": {
            "image/png": "[encoded data removed]",
            "text/plain": [
              "<Figure size 432x288 with 1 Axes>"
            ]
          },
          "metadata": {
            "needs_background": "light"
          }
        }
      ]
    },
    {
      "cell_type": "code",
      "metadata": {
        "colab": {
          "base_uri": "https://localhost:8080/",
          "height": 354
        },
        "id": "kcjSmppTHVj-",
        "outputId": "5d9029de-572a-46f9-c264-575c31afe9eb"
      },
      "source": [
        "# Did students live in a hostel or not\n",
        "dataset.Hostel.value_counts()\n",
        "sb.countplot('Hostel', data=dataset)"
      ],
      "execution_count": 306,
      "outputs": [
        {
          "output_type": "stream",
          "name": "stderr",
          "text": [
            "/usr/local/lib/python3.7/dist-packages/seaborn/_decorators.py:43: FutureWarning: Pass the following variable as a keyword arg: x. From version 0.12, the only valid positional argument will be `data`, and passing other arguments without an explicit keyword will result in an error or misinterpretation.\n",
            "  FutureWarning\n"
          ]
        },
        {
          "output_type": "execute_result",
          "data": {
            "text/plain": [
              "<matplotlib.axes._subplots.AxesSubplot at 0x7fb812cd5f90>"
            ]
          },
          "metadata": {},
          "execution_count": 306
        },
        {
          "output_type": "display_data",
          "data": {
            "image/png": "[encoded data removed]",
            "text/plain": [
              "<Figure size 432x288 with 1 Axes>"
            ]
          },
          "metadata": {
            "needs_background": "light"
          }
        }
      ]
    },
    {
      "cell_type": "code",
      "metadata": {
        "colab": {
          "base_uri": "https://localhost:8080/",
          "height": 357
        },
        "id": "0LJlk_EtJPXS",
        "outputId": "20005407-f52b-4747-f8fb-dfb8f92d4028"
      },
      "source": [
        "# See how many students have a history of backlog in any subject\n",
        "dataset.HistoryOfBacklogs.value_counts()\n",
        "sb.countplot('HistoryOfBacklogs', data=dataset)"
      ],
      "execution_count": 307,
      "outputs": [
        {
          "output_type": "stream",
          "name": "stderr",
          "text": [
            "/usr/local/lib/python3.7/dist-packages/seaborn/_decorators.py:43: FutureWarning: Pass the following variable as a keyword arg: x. From version 0.12, the only valid positional argument will be `data`, and passing other arguments without an explicit keyword will result in an error or misinterpretation.\n",
            "  FutureWarning\n"
          ]
        },
        {
          "output_type": "execute_result",
          "data": {
            "text/plain": [
              "<matplotlib.axes._subplots.AxesSubplot at 0x7fb812cc92d0>"
            ]
          },
          "metadata": {},
          "execution_count": 307
        },
        {
          "output_type": "display_data",
          "data": {
            "image/png": "[encoded data removed]",
            "text/plain": [
              "<Figure size 432x288 with 1 Axes>"
            ]
          },
          "metadata": {
            "needs_background": "light"
          }
        }
      ]
    },
    {
      "cell_type": "markdown",
      "metadata": {
        "id": "viCrfBR_Kwr1"
      },
      "source": [
        "One bit of preprocessing that we have to do before we can actually apply logistic regression is to remove all the strings from the dataset. They have to all be turned to integers so that the regression can understand the input. This needs to be done for both the stream and gender columns. This can easily be done with sklearn's label encoder. "
      ]
    },
    {
      "cell_type": "code",
      "metadata": {
        "colab": {
          "base_uri": "https://localhost:8080/",
          "height": 206
        },
        "id": "aLZxrmNDLv8m",
        "outputId": "2fee87e3-e51b-4efc-b3d5-10d42c13320a"
      },
      "source": [
        "from sklearn import preprocessing\n",
        "encoder = preprocessing.LabelEncoder()\n",
        "dataset.Stream = encoder.fit_transform(dataset.Stream)\n",
        "dataset.Gender = encoder.fit_transform(dataset.Gender)\n",
        "# see if the label encoding worked\n",
        "dataset.head()"
      ],
      "execution_count": 308,
      "outputs": [
        {
          "output_type": "execute_result",
          "data": {
            "text/html": [
              "<div>\n",
              "<style scoped>\n",
              "    .dataframe tbody tr th:only-of-type {\n",
              "        vertical-align: middle;\n",
              "    }\n",
              "\n",
              "    .dataframe tbody tr th {\n",
              "        vertical-align: top;\n",
              "    }\n",
              "\n",
              "    .dataframe thead th {\n",
              "        text-align: right;\n",
              "    }\n",
              "</style>\n",
              "<table border=\"1\" class=\"dataframe\">\n",
              "  <thead>\n",
              "    <tr style=\"text-align: right;\">\n",
              "      <th></th>\n",
              "      <th>Age</th>\n",
              "      <th>Gender</th>\n",
              "      <th>Stream</th>\n",
              "      <th>Internships</th>\n",
              "      <th>CGPA</th>\n",
              "      <th>Hostel</th>\n",
              "      <th>HistoryOfBacklogs</th>\n",
              "      <th>PlacedOrNot</th>\n",
              "    </tr>\n",
              "  </thead>\n",
              "  <tbody>\n",
              "    <tr>\n",
              "      <th>0</th>\n",
              "      <td>22</td>\n",
              "      <td>1</td>\n",
              "      <td>3</td>\n",
              "      <td>1</td>\n",
              "      <td>8</td>\n",
              "      <td>1</td>\n",
              "      <td>1</td>\n",
              "      <td>1</td>\n",
              "    </tr>\n",
              "    <tr>\n",
              "      <th>1</th>\n",
              "      <td>21</td>\n",
              "      <td>0</td>\n",
              "      <td>1</td>\n",
              "      <td>0</td>\n",
              "      <td>7</td>\n",
              "      <td>1</td>\n",
              "      <td>1</td>\n",
              "      <td>1</td>\n",
              "    </tr>\n",
              "    <tr>\n",
              "      <th>2</th>\n",
              "      <td>22</td>\n",
              "      <td>0</td>\n",
              "      <td>4</td>\n",
              "      <td>1</td>\n",
              "      <td>6</td>\n",
              "      <td>0</td>\n",
              "      <td>0</td>\n",
              "      <td>1</td>\n",
              "    </tr>\n",
              "    <tr>\n",
              "      <th>3</th>\n",
              "      <td>21</td>\n",
              "      <td>1</td>\n",
              "      <td>4</td>\n",
              "      <td>0</td>\n",
              "      <td>8</td>\n",
              "      <td>0</td>\n",
              "      <td>1</td>\n",
              "      <td>1</td>\n",
              "    </tr>\n",
              "    <tr>\n",
              "      <th>4</th>\n",
              "      <td>22</td>\n",
              "      <td>1</td>\n",
              "      <td>5</td>\n",
              "      <td>0</td>\n",
              "      <td>8</td>\n",
              "      <td>1</td>\n",
              "      <td>0</td>\n",
              "      <td>1</td>\n",
              "    </tr>\n",
              "  </tbody>\n",
              "</table>\n",
              "</div>"
            ],
            "text/plain": [
              "   Age  Gender  Stream  ...  Hostel  HistoryOfBacklogs  PlacedOrNot\n",
              "0   22       1       3  ...       1                  1            1\n",
              "1   21       0       1  ...       1                  1            1\n",
              "2   22       0       4  ...       0                  0            1\n",
              "3   21       1       4  ...       0                  1            1\n",
              "4   22       1       5  ...       1                  0            1\n",
              "\n",
              "[5 rows x 8 columns]"
            ]
          },
          "metadata": {},
          "execution_count": 308
        }
      ]
    },
    {
      "cell_type": "markdown",
      "metadata": {
        "id": "2-vjKQNzuYO2"
      },
      "source": [
        "The next step to getting our data ready for training is to split off the 'PlacedOrNot' column, as this is the label for our dataset. It needs to be use for validation in the loss function and should not be apart of the entries."
      ]
    },
    {
      "cell_type": "code",
      "metadata": {
        "id": "kVhJ2uG7vAe9"
      },
      "source": [
        "X = dataset.drop('PlacedOrNot', 1)\n",
        "y = dataset['PlacedOrNot']"
      ],
      "execution_count": 309,
      "outputs": []
    },
    {
      "cell_type": "markdown",
      "metadata": {
        "id": "X3fcd72x0wNh"
      },
      "source": [
        "After this we need to add another column to the dataset with all ones that will serve as the bias feature. This can be done by converting the dataframe to a numpy array and adding a ones column. This also has the added benefit of staying with numpy arrays, which is easier to do the math on when compared to a dataframe."
      ]
    },
    {
      "cell_type": "code",
      "metadata": {
        "id": "22WHRlYuw5kx"
      },
      "source": [
        "import numpy as np\n",
        "X = X.to_numpy()\n",
        "X = np.c_[X, np.ones(X.shape[0])]\n"
      ],
      "execution_count": 310,
      "outputs": []
    },
    {
      "cell_type": "markdown",
      "metadata": {
        "id": "Q8iwDn9f0-md"
      },
      "source": [
        "Lastly we are going to split our data into some testing data and some training data, using another built in sklearn function."
      ]
    },
    {
      "cell_type": "code",
      "metadata": {
        "id": "quxlyC5k0gJw"
      },
      "source": [
        "from sklearn.model_selection import train_test_split\n",
        "\n",
        "X_train, X_test, y_train, y_test = train_test_split(X, y)\n",
        "y_train = y_train.to_numpy()\n",
        "y_test = y_test.to_numpy()"
      ],
      "execution_count": 311,
      "outputs": []
    },
    {
      "cell_type": "markdown",
      "metadata": {
        "id": "R8538MSIXliF"
      },
      "source": [
        "# Task 3"
      ]
    },
    {
      "cell_type": "markdown",
      "metadata": {
        "id": "llJAVrFVapq5"
      },
      "source": [
        "The first step in the actual machine learning is to implement all the things that are needed for the different varieties of gradient descent"
      ]
    },
    {
      "cell_type": "code",
      "metadata": {
        "id": "4yR5vgXf7iaI"
      },
      "source": [
        "def sigmoid(z):\n",
        "  return 1/(1+np.exp(-z))\n",
        "\n",
        "def cost(y, A, m):\n",
        "  return -1/m * np.sum(y * np.log(A) + (1-y) * (np.log(1-A)))\n",
        "\n",
        "def logistic_regression(w, X, y, m, n):\n",
        "  A = sigmoid(np.dot(X, w.T))\n",
        "  l = cost(y, A, m)\n",
        "  dw = np.dot((A-y).T, X)/m\n",
        "  return (A, l, dw)\n",
        "\n",
        "def predict(w, X):\n",
        "    probability = sigmoid(np.dot(X, w.T))\n",
        "    values = np.where(probability >= .5, 1, 0)\n",
        "    return np.squeeze(values)"
      ],
      "execution_count": 312,
      "outputs": []
    },
    {
      "cell_type": "markdown",
      "metadata": {
        "id": "mRBpFNoFcGRb"
      },
      "source": [
        "The next step is to implement the two different versions of gradient descent. The first will be batch gradient descent as shown below:"
      ]
    },
    {
      "cell_type": "code",
      "metadata": {
        "id": "kXoFbhADHwcj"
      },
      "source": [
        "def bgd(X, y):\n",
        "  lr = .01\n",
        "  num_epochs = 100\n",
        "  w = np.zeros((1,X.shape[1]))\n",
        "  loss=[]\n",
        "  for i in range(num_epochs):\n",
        "    _, l, dw = logistic_regression(w, X, y, X.shape[0], X.shape[1])\n",
        "    w = w - lr*dw\n",
        "    loss.append(l)\n",
        "  return w, loss\n",
        "\n",
        "# y_train = np.reshape(y_train, (y_train.shape[0], 1))\n",
        "# bgdw, bgdLoss = bgd(X_train, y_train)\n",
        "# print(w.shape)\n",
        "# print(loss)\n",
        "# print(predict(w, X_test))\n",
        "\n"
      ],
      "execution_count": 313,
      "outputs": []
    },
    {
      "cell_type": "markdown",
      "metadata": {
        "id": "bMPeZE0xo-Ke"
      },
      "source": [
        "The other variation on the vanialla gradient descent is mini batch gradient descent, as shown below:\n"
      ]
    },
    {
      "cell_type": "code",
      "metadata": {
        "id": "W2p2ehgzqlEV"
      },
      "source": [
        "def make_batch(X, size):\n",
        "  return np.split(X, np.arange(size,len(X),size))"
      ],
      "execution_count": 314,
      "outputs": []
    },
    {
      "cell_type": "code",
      "metadata": {
        "id": "D5v1_dGJpI10"
      },
      "source": [
        "def mbgd(X, y):\n",
        "  lr = .01\n",
        "  num_epochs = 100\n",
        "  w = np.zeros((1,X.shape[1]))\n",
        "  loss = []\n",
        "  for i in range(num_epochs):\n",
        "    np.random.shuffle(X_train)\n",
        "    for batch in make_batch(X, 50):\n",
        "      _, l, dw = logistic_regression(w, X, y, X.shape[0], X.shape[1])\n",
        "      w = w - lr*dw\n",
        "      loss.append(l)\n",
        "    return w, loss\n",
        "\n",
        "# mbgdw, mbgdLoss = mbgd(X_train, y_train)\n",
        "# print(w.shape)\n",
        "# print(loss)\n",
        "# print(predict(w, X_test))\n"
      ],
      "execution_count": 315,
      "outputs": []
    },
    {
      "cell_type": "markdown",
      "metadata": {
        "id": "YhXBNZDrtvm7"
      },
      "source": [
        "# Task 4"
      ]
    },
    {
      "cell_type": "code",
      "metadata": {
        "id": "Z-SHh89cuTeL"
      },
      "source": [
        "from sklearn.ensemble import AdaBoostClassifier"
      ],
      "execution_count": null,
      "outputs": []
    }
  ]
}